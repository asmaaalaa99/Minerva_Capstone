{
 "metadata": {
  "language_info": {
   "codemirror_mode": {
    "name": "ipython",
    "version": 3
   },
   "file_extension": ".py",
   "mimetype": "text/x-python",
   "name": "python",
   "nbconvert_exporter": "python",
   "pygments_lexer": "ipython3",
   "version": "3.7.6-final"
  },
  "orig_nbformat": 2,
  "kernelspec": {
   "name": "python3",
   "display_name": "Python 3",
   "language": "python"
  }
 },
 "nbformat": 4,
 "nbformat_minor": 2,
 "cells": [
  {
   "cell_type": "code",
   "execution_count": 3,
   "metadata": {},
   "outputs": [
    {
     "output_type": "error",
     "ename": "NameError",
     "evalue": "name 'join' is not defined",
     "traceback": [
      "\u001b[0;31m---------------------------------------------------------------------------\u001b[0m",
      "\u001b[0;31mNameError\u001b[0m                                 Traceback (most recent call last)",
      "\u001b[0;32m<ipython-input-3-398180375da5>\u001b[0m in \u001b[0;36m<module>\u001b[0;34m\u001b[0m\n\u001b[1;32m    127\u001b[0m \u001b[0;34m\u001b[0m\u001b[0m\n\u001b[1;32m    128\u001b[0m \u001b[0;32mfor\u001b[0m \u001b[0mdataset\u001b[0m \u001b[0;32min\u001b[0m \u001b[0mDATASET_PATHS\u001b[0m\u001b[0;34m.\u001b[0m\u001b[0mkeys\u001b[0m\u001b[0;34m(\u001b[0m\u001b[0;34m)\u001b[0m\u001b[0;34m:\u001b[0m\u001b[0;34m\u001b[0m\u001b[0;34m\u001b[0m\u001b[0m\n\u001b[0;32m--> 129\u001b[0;31m     \u001b[0mvideos_path\u001b[0m \u001b[0;34m=\u001b[0m \u001b[0mjoin\u001b[0m\u001b[0;34m(\u001b[0m\u001b[0mDATASET_PATHS\u001b[0m\u001b[0;34m[\u001b[0m\u001b[0;34m'Face2Face'\u001b[0m\u001b[0;34m]\u001b[0m\u001b[0;34m,\u001b[0m \u001b[0;34m'c23'\u001b[0m\u001b[0;34m,\u001b[0m \u001b[0;34m'videos'\u001b[0m\u001b[0;34m)\u001b[0m\u001b[0;34m\u001b[0m\u001b[0;34m\u001b[0m\u001b[0m\n\u001b[0m\u001b[1;32m    130\u001b[0m     \u001b[0mimages_path\u001b[0m \u001b[0;34m=\u001b[0m \u001b[0mjoin\u001b[0m\u001b[0;34m(\u001b[0m\u001b[0mDATASET_PATHS\u001b[0m\u001b[0;34m[\u001b[0m\u001b[0;34m'Face2Face'\u001b[0m\u001b[0;34m]\u001b[0m\u001b[0;34m,\u001b[0m \u001b[0;34m'c23'\u001b[0m\u001b[0;34m,\u001b[0m \u001b[0;34m'images'\u001b[0m\u001b[0;34m)\u001b[0m\u001b[0;34m\u001b[0m\u001b[0;34m\u001b[0m\u001b[0m\n\u001b[1;32m    131\u001b[0m     \u001b[0;32mfor\u001b[0m \u001b[0mvideo\u001b[0m \u001b[0;32min\u001b[0m \u001b[0mtqdm\u001b[0m\u001b[0;34m(\u001b[0m\u001b[0mos\u001b[0m\u001b[0;34m.\u001b[0m\u001b[0mlistdir\u001b[0m\u001b[0;34m(\u001b[0m\u001b[0mvideos_path\u001b[0m\u001b[0;34m)\u001b[0m\u001b[0;34m)\u001b[0m\u001b[0;34m:\u001b[0m\u001b[0;34m\u001b[0m\u001b[0;34m\u001b[0m\u001b[0m\n",
      "\u001b[0;31mNameError\u001b[0m: name 'join' is not defined"
     ]
    }
   ],
   "source": [
    "from concurrent.futures import ProcessPoolExecutor, as_completed\n",
    "import cv2\n",
    "import multiprocessing\n",
    "import os\n",
    "import sys\n",
    "\n",
    "\n",
    "def print_progress(iteration, total, prefix='', suffix='', decimals=3, bar_length=100):\n",
    "    \"\"\"\n",
    "    Call in a loop to create standard out progress bar\n",
    "\n",
    "    :param iteration: current iteration\n",
    "    :param total: total iterations\n",
    "    :param prefix: prefix string\n",
    "    :param suffix: suffix string\n",
    "    :param decimals: positive number of decimals in percent complete\n",
    "    :param bar_length: character length of bar\n",
    "    :return: None\n",
    "    \"\"\"\n",
    "\n",
    "    format_str = \"{0:.\" + str(decimals) + \"f}\"  # format the % done number string\n",
    "    percents = format_str.format(100 * (iteration / float(total)))  # calculate the % done\n",
    "    filled_length = int(round(bar_length * iteration / float(total)))  # calculate the filled bar length\n",
    "    bar = '#' * filled_length + '-' * (bar_length - filled_length)  # generate the bar string\n",
    "    sys.stdout.write('\\r%s |%s| %s%s %s' % (prefix, bar, percents, '%', suffix)),  # write out the bar\n",
    "    sys.stdout.flush()  # flush to stdout\n",
    "\n",
    "\n",
    "def extract_frames(video_path, frames_dir, overwrite=False, start=-1, end=-1, every=1):\n",
    "    \"\"\"\n",
    "    Extract frames from a video using OpenCVs VideoCapture\n",
    "\n",
    "    :param video_path: path of the video\n",
    "    :param frames_dir: the directory to save the frames\n",
    "    :param overwrite: to overwrite frames that already exist?\n",
    "    :param start: start frame\n",
    "    :param end: end frame\n",
    "    :param every: frame spacing\n",
    "    :return: count of images saved\n",
    "    \"\"\"\n",
    "\n",
    "    video_path = os.path.normpath(video_path)  # make the paths OS (Windows) compatible\n",
    "    frames_dir = os.path.normpath(frames_dir)  # make the paths OS (Windows) compatible\n",
    "\n",
    "    video_dir, video_filename = os.path.split(video_path)  # get the video path and filename from the path\n",
    "\n",
    "    assert os.path.exists(video_path)  # assert the video file exists\n",
    "\n",
    "    capture = cv2.VideoCapture(video_path)  # open the video using OpenCV\n",
    "\n",
    "    if start < 0:  # if start isn't specified lets assume 0\n",
    "        start = 0\n",
    "    if end < 0:  # if end isn't specified assume the end of the video\n",
    "        end = int(capture.get(cv2.CAP_PROP_FRAME_COUNT))\n",
    "\n",
    "    capture.set(1, start)  # set the starting frame of the capture\n",
    "    frame = start  # keep track of which frame we are up to, starting from start\n",
    "    while_safety = 0  # a safety counter to ensure we don't enter an infinite while loop (hopefully we won't need it)\n",
    "    saved_count = 0  # a count of how many frames we have saved\n",
    "\n",
    "    while frame < end:  # lets loop through the frames until the end\n",
    "\n",
    "        _, image = capture.read()  # read an image from the capture\n",
    "\n",
    "        if while_safety > 500:  # break the while if our safety maxs out at 500\n",
    "            break\n",
    "\n",
    "        # sometimes OpenCV reads None's during a video, in which case we want to just skip\n",
    "        if image is None:  # if we get a bad return flag or the image we read is None, lets not save\n",
    "            while_safety += 1  # add 1 to our while safety, since we skip before incrementing our frame variable\n",
    "            continue  # skip\n",
    "\n",
    "        if frame % every == 0:  # if this is a frame we want to write out based on the 'every' argument\n",
    "            while_safety = 0  # reset the safety count\n",
    "            save_path = os.path.join(frames_dir, \"{:010d}.jpg\".format(frame))  # create the save path\n",
    "            if not os.path.exists(save_path) or overwrite:  # if it doesn't exist or we want to overwrite anyways\n",
    "                cv2.imwrite(save_path, image)  # save the extracted image\n",
    "                saved_count += 1  # increment our counter by one\n",
    "\n",
    "        frame += 1  # increment our frame count\n",
    "\n",
    "    capture.release()  # after the while has finished close the capture\n",
    "\n",
    "    return saved_count  # and return the count of the images we saved\n",
    "\n",
    "\n",
    "def video_to_frames(video_path, frames_dir, overwrite=True, every=1, chunk_size=1000):\n",
    "    \"\"\"\n",
    "    Extracts the frames from a video using multiprocessing\n",
    "\n",
    "    :param video_path: path to the video\n",
    "    :param frames_dir: directory to save the frames\n",
    "    :param overwrite: overwrite frames if they exist?\n",
    "    :param every: extract every this many frames\n",
    "    :param chunk_size: how many frames to split into chunks (one chunk per cpu core process)\n",
    "    :return: path to the directory where the frames were saved, or None if fails\n",
    "    \"\"\"\n",
    "\n",
    "    video_path = os.path.normpath(video_path)  # make the paths OS (Windows) compatible\n",
    "    frames_dir = os.path.normpath(frames_dir)  # make the paths OS (Windows) compatible\n",
    "\n",
    "    video_dir, video_filename = os.path.split(video_path)  # get the video path and filename from the path\n",
    "\n",
    "    # make directory to save frames, its a sub dir in the frames_dir with the video name\n",
    "    os.makedirs(os.path.join(frames_dir, video_filename), exist_ok=True)\n",
    "\n",
    "    capture = cv2.VideoCapture(video_path)  # load the video\n",
    "    total = int(capture.get(cv2.CAP_PROP_FRAME_COUNT))  # get its total frame count\n",
    "    capture.release()  # release the capture straight away\n",
    "\n",
    "    if total < 1:  # if video has no frames, might be and opencv error\n",
    "        print(\"Video has no frames. Check your OpenCV + ffmpeg installation\")\n",
    "        return None  # return None\n",
    "\n",
    "    frame_chunks = [[i, i+chunk_size] for i in range(0, total, chunk_size)]  # split the frames into chunk lists\n",
    "    frame_chunks[-1][-1] = min(frame_chunks[-1][-1], total-1)  # make sure last chunk has correct end frame, also handles case chunk_size < total\n",
    "\n",
    "    prefix_str = \"Extracting frames from {}\".format(video_filename)  # a prefix string to be printed in progress bar\n",
    "\n",
    "    # execute across multiple cpu cores to speed up processing, get the count automatically\n",
    "    with ProcessPoolExecutor(max_workers=multiprocessing.cpu_count()) as executor:\n",
    "\n",
    "        futures = [executor.submit(extract_frames, video_path, frames_dir, overwrite, f[0], f[1], every)\n",
    "                   for f in frame_chunks]  \n",
    "    return os.path.join(frames_dir, video_filename)  # when done return the directory containing the frames\n",
    "\n",
    "\n",
    "for dataset in DATASET_PATHS.keys():\n",
    "    videos_path = join(DATASET_PATHS['Face2Face'], 'c23', 'videos')\n",
    "    images_path = join(DATASET_PATHS['Face2Face'], 'c23', 'images')\n",
    "    for video in tqdm(os.listdir(videos_path)):\n",
    "        image_folder = video.split('.')[0]\n",
    "        video_to_frames(video_path= join(videos_path, video), frames_dir= join(images_path, image_folder), overwrite=False, every=5, chunk_size=1000)"
   ]
  },
  {
   "cell_type": "code",
   "execution_count": 2,
   "metadata": {},
   "outputs": [],
   "source": [
    "DATASET_PATHS = {\n",
    "    'original': '/Volumes/MY PASSPORT/original_sequences/youtube',\n",
    "    'Deepfakes': '/Volumes/MY PASSPORT/manipulated_sequences/Deepfakes',\n",
    "    'Face2Face': '/Volumes/MY PASSPORT/manipulated_sequences/Face2Face',\n",
    "    'FaceSwap': 'manipulated_sequences/FaceSwap'\n",
    "}\n"
   ]
  },
  {
   "cell_type": "code",
   "execution_count": 6,
   "metadata": {},
   "outputs": [],
   "source": [
    "import cv2"
   ]
  },
  {
   "cell_type": "code",
   "execution_count": 10,
   "metadata": {},
   "outputs": [
    {
     "output_type": "stream",
     "name": "stdout",
     "text": [
      "4.4.0\n"
     ]
    }
   ],
   "source": [
    "print (cv2.__version__)"
   ]
  },
  {
   "cell_type": "code",
   "execution_count": null,
   "metadata": {},
   "outputs": [],
   "source": [
    "cv2.dnn_Net"
   ]
  },
  {
   "cell_type": "code",
   "execution_count": null,
   "metadata": {},
   "outputs": [],
   "source": []
  }
 ]
}