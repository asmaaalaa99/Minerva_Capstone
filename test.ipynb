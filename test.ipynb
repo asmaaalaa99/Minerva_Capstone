import sys, os
sys.path.insert(0, os.path.abspath('../python'))
import decord as de