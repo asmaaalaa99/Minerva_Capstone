{
 "cells": [
  {
   "cell_type": "code",
   "execution_count": 1,
   "metadata": {
    "_cell_guid": "e30e2e10-a909-485d-be9d-dc6f592911a7",
    "_uuid": "c7e569699c6d067cd9fdf9c77299775e399b2ef3",
    "execution": {
     "iopub.execute_input": "2021-03-09T18:33:05.054501Z",
     "iopub.status.busy": "2021-03-09T18:33:05.053805Z",
     "iopub.status.idle": "2021-03-09T18:33:12.859214Z",
     "shell.execute_reply": "2021-03-09T18:33:12.858182Z"
    },
    "id": "qWnuqFe2o8x2",
    "outputId": "5da50037-4aa3-47db-83e1-42db3eae5305",
    "papermill": {
     "duration": 7.82969,
     "end_time": "2021-03-09T18:33:12.859430",
     "exception": false,
     "start_time": "2021-03-09T18:33:05.029740",
     "status": "completed"
    },
    "tags": []
   },
   "outputs": [
    {
     "name": "stdout",
     "output_type": "stream",
     "text": [
      "2.4.1\n"
     ]
    }
   ],
   "source": [
    "import numpy as np\n",
    "import argparse\n",
    "from tensorflow.keras import initializers, layers\n",
    "\n",
    "import os\n",
    "from tensorflow.keras.applications.vgg16 import VGG16\n",
    "from tensorflow.keras.models import Model\n",
    "from tensorflow.keras.layers import Dense\n",
    "from tensorflow.keras.layers import Dropout,InputLayer,Flatten,Dense,BatchNormalization,MaxPooling2D,Conv2D,Input,Concatenate,LeakyReLU\n",
    "from tensorflow.keras.layers import Flatten\n",
    "# load model without classifier layers\n",
    "from tensorflow.keras.applications import VGG19\n",
    "\n",
    "from tensorflow.keras.applications import VGG19\n",
    "import tensorflow as tf\n",
    "from tensorflow.keras import callbacks\n",
    "from tensorflow.keras.preprocessing.image import ImageDataGenerator\n",
    "import re \n",
    "from sklearn.model_selection import train_test_split\n",
    "import shutil\n",
    "from tensorflow.keras import layers, models, optimizers\n",
    "from tensorflow.keras import backend as K\n",
    "from tensorflow.keras.utils import to_categorical\n",
    "import pandas as pd\n",
    "print(tf.__version__)\n",
    "import argparse\n",
    "import os\n",
    "import sys, os\n",
    "from PIL import Image\n",
    "import torch\n",
    "import glob\n",
    "from tqdm.notebook import tqdm\n",
    "import numpy as np\n",
    "import pandas as pd\n",
    "from matplotlib import pyplot as plt\n",
    "from joblib import Parallel, delayed\n",
    "import cv2\n",
    "device = 'cuda' if torch.cuda.is_available() else 'cpu'\n",
    "from tensorflow.keras.layers import Conv2D, MaxPooling2D\n",
    "from tensorflow.keras.layers import Dense, Dropout, Flatten, Activation\n",
    "from tensorflow.keras.models import Sequential\n",
    "from tensorflow.keras.applications.vgg19 import VGG19\n",
    "from tensorflow.keras.models import Model\n",
    "from tensorflow.keras.layers import Dense\n",
    "from tensorflow.keras.layers import Flatten\n",
    "from tensorflow.keras.applications.vgg16 import VGG16\n",
    "from tensorflow.keras.models import Model\n",
    "from tensorflow.keras.layers import Dense\n",
    "from tensorflow.keras.layers import Flatten\n",
    "# load model without classifier layers\n",
    "from tensorflow.keras.applications import VGG19\n",
    "\n"
   ]
  },
  {
   "cell_type": "code",
   "execution_count": 2,
   "metadata": {
    "execution": {
     "iopub.execute_input": "2021-03-09T18:33:12.902278Z",
     "iopub.status.busy": "2021-03-09T18:33:12.901582Z",
     "iopub.status.idle": "2021-03-09T18:33:12.946344Z",
     "shell.execute_reply": "2021-03-09T18:33:12.945231Z"
    },
    "papermill": {
     "duration": 0.073378,
     "end_time": "2021-03-09T18:33:12.946494",
     "exception": false,
     "start_time": "2021-03-09T18:33:12.873116",
     "status": "completed"
    },
    "tags": []
   },
   "outputs": [],
   "source": [
    "df_train = pd.read_csv(\"../input/capstone-dataset/base__dir/train_data.csv\")\n",
    "df_val = pd.read_csv(\"../input/capstone-dataset/base__dir/val_data.csv\")\n",
    "df_test = pd.read_csv(\"../input/capstone-dataset/base__dir/test_data.csv\")\n"
   ]
  },
  {
   "cell_type": "markdown",
   "metadata": {
    "_cell_guid": "9776fd57-44e0-4211-a7a5-c7e647a10704",
    "_uuid": "f4b5499a472b312d5c5f0274ad429567aced6841",
    "id": "xYHeLw1do8x5",
    "papermill": {
     "duration": 0.011222,
     "end_time": "2021-03-09T18:33:12.969640",
     "exception": false,
     "start_time": "2021-03-09T18:33:12.958418",
     "status": "completed"
    },
    "tags": []
   },
   "source": [
    "# Capsule Layers \n",
    "Here is the implementation of the necessary layers for the CapsuleNet. These are not optimized yet and can be made significantly more performant. "
   ]
  },
  {
   "cell_type": "code",
   "execution_count": 3,
   "metadata": {
    "_cell_guid": "167d39ca-ee32-4eec-a83b-86194252b14f",
    "_uuid": "90c180a9a8c20e3fb8a93c3eb42588927cfcd6b6",
    "execution": {
     "iopub.execute_input": "2021-03-09T18:33:13.020649Z",
     "iopub.status.busy": "2021-03-09T18:33:13.019162Z",
     "iopub.status.idle": "2021-03-09T18:33:13.021250Z",
     "shell.execute_reply": "2021-03-09T18:33:13.021638Z"
    },
    "id": "dQti96GTo8x5",
    "outputId": "73dd133a-5bc2-47f2-ea08-c4de4c135fdb",
    "papermill": {
     "duration": 0.04044,
     "end_time": "2021-03-09T18:33:13.021825",
     "exception": false,
     "start_time": "2021-03-09T18:33:12.981385",
     "status": "completed"
    },
    "tags": []
   },
   "outputs": [],
   "source": [
    "class Length(layers.Layer):\n",
    "    \"\"\"\n",
    "    Compute the length of vectors. This is used to compute a Tensor that has the same shape with y_true in margin_loss.\n",
    "    Using this layer as model's output can directly predict labels by using `y_pred = np.argmax(model.predict(x), 1)`\n",
    "    inputs: shape=[None, num_vectors, dim_vector]\n",
    "    output: shape=[None, num_vectors]\n",
    "    \"\"\"\n",
    "    def call(self, inputs, **kwargs):\n",
    "        return tf.sqrt(tf.reduce_sum(tf.square(inputs), -1) + K.epsilon())\n",
    "\n",
    "    def compute_output_shape(self, input_shape):\n",
    "        return input_shape[:-1]\n",
    "\n",
    "    def get_config(self):\n",
    "        config = super(Length, self).get_config()\n",
    "        return config\n",
    "\n",
    "\n",
    "class Mask(layers.Layer):\n",
    "    \"\"\"\n",
    "    Mask a Tensor with shape=[None, num_capsule, dim_vector] either by the capsule with max length or by an additional \n",
    "    input mask. Except the max-length capsule (or specified capsule), all vectors are masked to zeros. Then flatten the\n",
    "    masked Tensor.\n",
    "    For example:\n",
    "        ```\n",
    "        x = keras.layers.Input(shape=[8, 3, 2])  # batch_size=8, each sample contains 3 capsules with dim_vector=2\n",
    "        y = keras.layers.Input(shape=[8, 3])  # True labels. 8 samples, 3 classes, one-hot coding.\n",
    "        out = Mask()(x)  # out.shape=[8, 6]\n",
    "        # or\n",
    "        out2 = Mask()([x, y])  # out2.shape=[8,6]. Masked with true labels y. Of course y can also be manipulated.\n",
    "        ```\n",
    "    \"\"\"\n",
    "    def call(self, inputs, **kwargs):\n",
    "        if type(inputs) is list:  # true label is provided with shape = [None, n_classes], i.e. one-hot code.\n",
    "            assert len(inputs) == 2\n",
    "            inputs, mask = inputs\n",
    "        else:  # if no true label, mask by the max length of capsules. Mainly used for prediction\n",
    "            # compute lengths of capsules\n",
    "            x = tf.sqrt(tf.reduce_sum(tf.square(inputs), -1))\n",
    "            # generate the mask which is a one-hot code.\n",
    "            # mask.shape=[None, n_classes]=[None, num_capsule]\n",
    "            mask = tf.one_hot(indices=tf.argmax(x, 1), depth=x.shape[1])\n",
    "\n",
    "        # inputs.shape=[None, num_capsule, dim_capsule]\n",
    "        # mask.shape=[None, num_capsule]\n",
    "        # masked.shape=[None, num_capsule * dim_capsule]\n",
    "        masked = K.batch_flatten(inputs * tf.expand_dims(mask, -1))\n",
    "        return masked\n",
    "\n",
    "    def compute_output_shape(self, input_shape):\n",
    "        if type(input_shape[0]) is tuple:  # true label provided\n",
    "            return tuple([None, input_shape[0][1] * input_shape[0][2]])\n",
    "        else:  # no true label provided\n",
    "            return tuple([None, input_shape[1] * input_shape[2]])\n",
    "\n",
    "    def get_config(self):\n",
    "        config = super(Mask, self).get_config()\n",
    "        return config\n",
    "\n",
    "\n",
    "def squash(vectors, axis=-1):\n",
    "    \"\"\"\n",
    "    The non-linear activation used in Capsule. It drives the length of a large vector to near 1 and small vector to 0\n",
    "    :param vectors: some vectors to be squashed, N-dim tensor\n",
    "    :param axis: the axis to squash\n",
    "    :return: a Tensor with same shape as input vectors\n",
    "    \"\"\"\n",
    "    s_squared_norm = tf.reduce_sum(tf.square(vectors), axis, keepdims=True)\n",
    "    scale = s_squared_norm / (1 + s_squared_norm) / tf.sqrt(s_squared_norm + K.epsilon())\n",
    "    return scale * vectors\n",
    "\n",
    "\n",
    "class CapsuleLayer(layers.Layer):\n",
    "    \"\"\"\n",
    "    The capsule layer. It is similar to Dense layer. Dense layer has `in_num` inputs, each is a scalar, the output of the\n",
    "    neuron from the former layer, and it has `out_num` output neurons. CapsuleLayer just expand the output of the neuron\n",
    "    from scalar to vector. So its input shape = [None, input_num_capsule, input_dim_capsule] and output shape = \\\n",
    "    [None, num_capsule, dim_capsule]. For Dense Layer, input_dim_capsule = dim_capsule = 1.\n",
    "    :param num_capsule: number of capsules in this layer\n",
    "    :param dim_capsule: dimension of the output vectors of the capsules in this layer\n",
    "    :param routings: number of iterations for the routing algorithm\n",
    "    \"\"\"\n",
    "    def __init__(self, num_capsule, dim_capsule, routings=3,\n",
    "                 kernel_initializer='glorot_uniform',\n",
    "                 **kwargs):\n",
    "        super(CapsuleLayer, self).__init__(**kwargs)\n",
    "        self.num_capsule = num_capsule\n",
    "        self.dim_capsule = dim_capsule\n",
    "        self.routings = routings\n",
    "        self.kernel_initializer = initializers.get(kernel_initializer)\n",
    "\n",
    "    def build(self, input_shape):\n",
    "        assert len(input_shape) >= 3, \"The input Tensor should have shape=[None, input_num_capsule, input_dim_capsule]\"\n",
    "        self.input_num_capsule = input_shape[1]\n",
    "        self.input_dim_capsule = input_shape[2]\n",
    "\n",
    "        self.W = self.add_weight(shape=[self.num_capsule, self.input_num_capsule,\n",
    "                                        self.dim_capsule, self.input_dim_capsule],\n",
    "                                 initializer=self.kernel_initializer,\n",
    "                                 name='W')\n",
    "\n",
    "        self.built = True\n",
    "\n",
    "    def call(self, inputs, training=None):\n",
    "        \n",
    "        inputs_expand = tf.expand_dims(tf.expand_dims(inputs, 1), -1)\n",
    "\n",
    "        \n",
    "        inputs_tiled = tf.tile(inputs_expand, [1, self.num_capsule, 1, 1, 1])\n",
    "\n",
    "        \n",
    "        inputs_hat = tf.squeeze(tf.map_fn(lambda x: tf.matmul(self.W, x), elems=inputs_tiled))\n",
    "\n",
    "        b = tf.zeros(shape=[inputs.shape[0], self.num_capsule, 1, self.input_num_capsule])\n",
    "\n",
    "        assert self.routings > 0, 'The routings should be > 0.'\n",
    "        for i in range(self.routings):\n",
    "            c = tf.nn.softmax(b, axis=1)\n",
    "\n",
    "            outputs = squash(tf.matmul(c, inputs_hat))  # [None, 10, 1, 16]\n",
    "\n",
    "            if i < self.routings - 1:\n",
    "\n",
    "                b += tf.matmul(outputs, inputs_hat, transpose_b=True)\n",
    "\n",
    "        return tf.squeeze(outputs)\n",
    "\n",
    "    def compute_output_shape(self, input_shape):\n",
    "        return tuple([None, self.num_capsule, self.dim_capsule])\n",
    "\n",
    "    def get_config(self):\n",
    "        config = {\n",
    "            'num_capsule': self.num_capsule,\n",
    "            'dim_capsule': self.dim_capsule,\n",
    "            'routings': self.routings\n",
    "        }\n",
    "        base_config = super(CapsuleLayer, self).get_config()\n",
    "        return dict(list(base_config.items()) + list(config.items()))\n",
    "\n",
    "\n",
    "def PrimaryCap(inputs, dim_capsule, n_channels, kernel_size, strides, padding):\n",
    "    \"\"\"\n",
    "    Apply Conv2D `n_channels` times and concatenate all capsules\n",
    "    :param inputs: 4D tensor, shape=[None, width, height, channels]\n",
    "    :param dim_capsule: the dim of the output vector of capsule\n",
    "    :param n_channels: the number of types of capsules\n",
    "    :return: output tensor, shape=[None, num_capsule, dim_capsule]\n",
    "    \"\"\"\n",
    "    output = layers.Conv2D(filters=dim_capsule*n_channels, kernel_size=kernel_size, strides=strides, padding=padding,\n",
    "                           name='primarycap_conv2d')(inputs)\n",
    "    outputs = layers.Reshape(target_shape=[-1, dim_capsule], name='primarycap_reshape')(output)\n",
    "    return layers.Lambda(squash, name='primarycap_squash')(outputs)\n",
    "\n"
   ]
  },
  {
   "cell_type": "code",
   "execution_count": 4,
   "metadata": {
    "_cell_guid": "bc101123-d53c-4c2e-a187-101c434885da",
    "_uuid": "2497453eb1895f624ad84617dd98c230f5640304",
    "execution": {
     "iopub.execute_input": "2021-03-09T18:33:13.059242Z",
     "iopub.status.busy": "2021-03-09T18:33:13.057284Z",
     "iopub.status.idle": "2021-03-09T18:33:13.059979Z",
     "shell.execute_reply": "2021-03-09T18:33:13.060437Z"
    },
    "id": "HCMIciV0o8x9",
    "papermill": {
     "duration": 0.026885,
     "end_time": "2021-03-09T18:33:13.060592",
     "exception": false,
     "start_time": "2021-03-09T18:33:13.033707",
     "status": "completed"
    },
    "tags": []
   },
   "outputs": [],
   "source": [
    "\n",
    "#K.set_image_data_format('channels_last')\n",
    "\n",
    "def CapsNet(input_shape, n_class, routings, batch_size):\n",
    "    \"\"\"\n",
    "    A Capsule Network on MNIST.\n",
    "    :param input_shape: data shape, 3d, [width, height, channels]\n",
    "    :param n_class: number of classes\n",
    "    :param routings: number of routing iterations\n",
    "    :param batch_size: size of batch\n",
    "    :return: Two Keras Models, the first one used for training, and the second one for evaluation.\n",
    "            `eval_model` can also be used for training.\n",
    "    \"\"\"\n",
    "\n",
    "    \"\"\"\n",
    "    \"\"\"\n",
    "    x = layers.Input(shape=input_shape, batch_size=batch_size)\n",
    "\n",
    "    # Layer 1: Just a conventional Conv2D layer\n",
    "    conv1 = layers.Conv2D(filters=256, kernel_size=9, strides=1, padding='valid', activation='relu', name='conv1')(x)\n",
    "\n",
    "    # Layer 2: Conv2D layer with `squash` activation, then reshape to [None, num_capsule, dim_capsule]\n",
    "    primarycaps = PrimaryCap(conv1, dim_capsule=8, n_channels=32, kernel_size=9, strides=2, padding='valid')\n",
    "\n",
    "    # Layer 3: Capsule layer. Routing algorithm works here.\n",
    "    digitcaps = CapsuleLayer(num_capsule=n_class, dim_capsule=16, routings=routings, name='digitcaps')(primarycaps)\n",
    "\n",
    "    # Layer 4: This is an auxiliary layer to replace each capsule with its length. Just to match the true label's shape.\n",
    "    # If using tensorflow, this will not be necessary. :)\n",
    "    out_caps = Length(name='capsnet')(digitcaps)\n",
    "\n",
    "    # Decoder network.\n",
    "    y = layers.Input(shape=(n_class,))\n",
    "    masked_by_y = Mask()([digitcaps, y])  # The true label is used to mask the output of capsule layer. For training\n",
    "    masked = Mask()(digitcaps)  # Mask using the capsule with maximal length. For prediction\n",
    "\n",
    "    # Shared Decoder model in training and prediction\n",
    "    decoder = models.Sequential(name='decoder')\n",
    "    decoder.add(layers.Dense(512, activation='relu', input_dim=16 * n_class))\n",
    "    decoder.add(layers.Dense(1024, activation='relu'))\n",
    "    decoder.add(layers.Dense(np.prod(input_shape), activation='sigmoid'))\n",
    "    decoder.add(layers.Reshape(target_shape=input_shape, name='out_recon'))\n",
    "\n",
    "    # Models for training and evaluation (prediction)\n",
    "    train_model = models.Model([x, y], [out_caps, decoder(masked_by_y)])\n",
    "    eval_model = models.Model(x, [out_caps, decoder(masked)])\n",
    "\n",
    "    # manipulate model\n",
    "    noise = layers.Input(shape=(n_class, 16))\n",
    "    noised_digitcaps = layers.Add()([digitcaps, noise])\n",
    "    masked_noised_y = Mask()([noised_digitcaps, y])\n",
    "    manipulate_model = models.Model([x, y, noise], decoder(masked_noised_y))\n",
    "    return train_model, eval_model, manipulate_model"
   ]
  },
  {
   "cell_type": "code",
   "execution_count": 5,
   "metadata": {
    "_cell_guid": "c6d84e5a-c33c-40c8-89c3-aba3454f7025",
    "_uuid": "9f27c6b0623ebffb6c8a24579f9dd4e321d6b1c2",
    "execution": {
     "iopub.execute_input": "2021-03-09T18:33:13.091575Z",
     "iopub.status.busy": "2021-03-09T18:33:13.089545Z",
     "iopub.status.idle": "2021-03-09T18:33:13.092269Z",
     "shell.execute_reply": "2021-03-09T18:33:13.092667Z"
    },
    "id": "LS09Ic7qo8x_",
    "papermill": {
     "duration": 0.020467,
     "end_time": "2021-03-09T18:33:13.092812",
     "exception": false,
     "start_time": "2021-03-09T18:33:13.072345",
     "status": "completed"
    },
    "tags": []
   },
   "outputs": [],
   "source": [
    "def margin_loss(y_true, y_pred):\n",
    "    \"\"\"\n",
    "    Margin loss for Eq.(4). When y_true[i, :] contains not just one `1`, this loss should work too. Not test it.\n",
    "    :param y_true: [None, n_classes]\n",
    "    :param y_pred: [None, num_capsule]\n",
    "    :return: a scalar loss value.\n",
    "    \"\"\"\n",
    "    # return tf.reduce_mean(tf.square(y_pred))\n",
    "    L = y_true * tf.square(tf.maximum(0., 0.9 - y_pred)) + \\\n",
    "        0.5 * (1 - y_true) * tf.square(tf.maximum(0., y_pred - 0.1))\n",
    "\n",
    "    return tf.reduce_mean(tf.reduce_sum(L, 1))"
   ]
  },
  {
   "cell_type": "code",
   "execution_count": 6,
   "metadata": {
    "_cell_guid": "e698ab37-4e74-43e6-b35b-a0507449d916",
    "_uuid": "c0374dabdf452026e3f231ffe689b5dd9f99288b",
    "execution": {
     "iopub.execute_input": "2021-03-09T18:33:13.127687Z",
     "iopub.status.busy": "2021-03-09T18:33:13.125889Z",
     "iopub.status.idle": "2021-03-09T18:33:13.128382Z",
     "shell.execute_reply": "2021-03-09T18:33:13.128816Z"
    },
    "id": "TZJyVmido8yK",
    "papermill": {
     "duration": 0.024511,
     "end_time": "2021-03-09T18:33:13.128964",
     "exception": false,
     "start_time": "2021-03-09T18:33:13.104453",
     "status": "completed"
    },
    "tags": []
   },
   "outputs": [],
   "source": [
    "def train(model, data,mode_version):\n",
    "#def train(model, train_gen, val_gen,args):\n",
    "\n",
    "    \"\"\"\n",
    "    Training a CapsuleNet\n",
    "    :param model: the CapsuleNet model\n",
    "    :param data: a tuple containing training and testing data, like `((x_train, y_train), (x_test, y_test))`\n",
    "    :param args: arguments\n",
    "    :return: The trained model\n",
    "    \"\"\"\n",
    "    # unpacking the data\n",
    "    (x_train, y_train), (x_test, y_test) = data\n",
    "\n",
    "    # compile the model\n",
    "    checkpoint = callbacks.ModelCheckpoint(f'weights-{mode_version}.h5', monitor='val_capsnet_accuracy',\n",
    "                                           save_best_only=True, save_weights_only=True, verbose=1)\n",
    "\n",
    "    model.compile(optimizer=optimizers.Adam(0.0005),\n",
    "                  loss=[margin_loss, 'binary_crossentropy'],\n",
    "                  loss_weights=[1., 0.392],\n",
    "                  metrics={'capsnet': 'accuracy'})\n",
    "\n",
    "\n",
    "    def train_generator(x, y, batch_size, shift_fraction=0.):\n",
    "        train_datagen = ImageDataGenerator(width_shift_range=shift_fraction,\n",
    "                                           height_shift_range=shift_fraction) \n",
    "        generator = train_datagen.flow(x, y, batch_size=batch_size)\n",
    "        while 1:\n",
    "            x_batch, y_batch = generator.next()\n",
    "            yield (x_batch, y_batch), (y_batch, x_batch)\n",
    "\n",
    "    model.fit(train_generator(x_train, y_train, batch_size),\n",
    "              steps_per_epoch=int(np.shape(y_train)[0] / batch_size),\n",
    "              epochs=epochs,\n",
    "              validation_data=((x_test, y_test), (y_test, x_test)), batch_size=batch_size, callbacks =[checkpoint])\n",
    "    capsule_history = pd.DataFrame(model.history.history)\n",
    "    capsule_history.to_csv(f\"{mode_version}_capsule_history.csv\")\n",
    "    return model\n"
   ]
  },
  {
   "cell_type": "code",
   "execution_count": 7,
   "metadata": {
    "execution": {
     "iopub.execute_input": "2021-03-09T18:33:13.159479Z",
     "iopub.status.busy": "2021-03-09T18:33:13.157537Z",
     "iopub.status.idle": "2021-03-09T18:33:13.160206Z",
     "shell.execute_reply": "2021-03-09T18:33:13.160610Z"
    },
    "id": "_EKbfeEhiYkr",
    "outputId": "2c7bb18a-fcdc-44c1-8d91-2ae9be8488f0",
    "papermill": {
     "duration": 0.019874,
     "end_time": "2021-03-09T18:33:13.160750",
     "exception": false,
     "start_time": "2021-03-09T18:33:13.140876",
     "status": "completed"
    },
    "tags": []
   },
   "outputs": [],
   "source": [
    "epochs = 30\n",
    "batch_size = 10\n",
    "lr_decay = 0.9\n",
    "routings = 1\n",
    "shift_fraction = 0.1\n",
    "train_dir = '/Users/asmaaaly/Minerva/Minerva_Capstone/base__dir/train_dir'\n",
    "val_dir = '/Users/asmaaaly/Minerva/Minerva_Capstone/base__dir/val_dir'\n",
    "test_dir = '/Users/asmaaaly/Minerva/Minerva_Capstone/base__dir/test_dir'"
   ]
  },
  {
   "cell_type": "code",
   "execution_count": 8,
   "metadata": {
    "execution": {
     "iopub.execute_input": "2021-03-09T18:33:13.190351Z",
     "iopub.status.busy": "2021-03-09T18:33:13.188891Z",
     "iopub.status.idle": "2021-03-09T18:33:13.190902Z",
     "shell.execute_reply": "2021-03-09T18:33:13.191317Z"
    },
    "papermill": {
     "duration": 0.019029,
     "end_time": "2021-03-09T18:33:13.191463",
     "exception": false,
     "start_time": "2021-03-09T18:33:13.172434",
     "status": "completed"
    },
    "tags": []
   },
   "outputs": [],
   "source": [
    "Processed_datasets = {\n",
    "    'train_dir': '../input/capstone-dataset/base__dir/train_dir',\n",
    "    'val_dir': '../input/capstone-dataset/base__dir/val_dir',\n",
    "    'test_dir':'../input/capstone-dataset/base__dir/test_dir'\n",
    "    \n",
    "}\n"
   ]
  },
  {
   "cell_type": "code",
   "execution_count": 9,
   "metadata": {
    "execution": {
     "iopub.execute_input": "2021-03-09T18:33:13.222257Z",
     "iopub.status.busy": "2021-03-09T18:33:13.221219Z",
     "iopub.status.idle": "2021-03-09T18:33:13.240666Z",
     "shell.execute_reply": "2021-03-09T18:33:13.240155Z"
    },
    "papermill": {
     "duration": 0.037847,
     "end_time": "2021-03-09T18:33:13.240789",
     "exception": false,
     "start_time": "2021-03-09T18:33:13.202942",
     "status": "completed"
    },
    "tags": []
   },
   "outputs": [],
   "source": [
    "df_train = pd.read_csv(\"../input/capstone-dataset/base__dir/train_data.csv\")\n",
    "df_val = pd.read_csv(\"../input/capstone-dataset/base__dir/val_data.csv\")\n",
    "df_test = pd.read_csv(\"../input/capstone-dataset/base__dir/test_data.csv\")\n"
   ]
  },
  {
   "cell_type": "code",
   "execution_count": 10,
   "metadata": {
    "execution": {
     "iopub.execute_input": "2021-03-09T18:33:13.277701Z",
     "iopub.status.busy": "2021-03-09T18:33:13.276476Z",
     "iopub.status.idle": "2021-03-09T18:33:13.278378Z",
     "shell.execute_reply": "2021-03-09T18:33:13.278770Z"
    },
    "papermill": {
     "duration": 0.023894,
     "end_time": "2021-03-09T18:33:13.278915",
     "exception": false,
     "start_time": "2021-03-09T18:33:13.255021",
     "status": "completed"
    },
    "tags": []
   },
   "outputs": [],
   "source": [
    "num_train_samples = len(df_train)\n",
    "num_val_samples = len(df_val)\n",
    "num_test_samples = len(df_test)\n",
    "\n",
    "train_batch_size = 10\n",
    "val_batch_size = 10\n",
    "test_batch_size = 10\n",
    "\n",
    "train_steps = np.ceil(num_train_samples / train_batch_size)\n",
    "val_steps = np.ceil(num_val_samples / val_batch_size)\n",
    "test_steps = np.ceil(num_test_samples / test_batch_size)"
   ]
  },
  {
   "cell_type": "code",
   "execution_count": 11,
   "metadata": {
    "execution": {
     "iopub.execute_input": "2021-03-09T18:33:13.311559Z",
     "iopub.status.busy": "2021-03-09T18:33:13.310936Z",
     "iopub.status.idle": "2021-03-09T18:33:14.862754Z",
     "shell.execute_reply": "2021-03-09T18:33:14.862290Z"
    },
    "papermill": {
     "duration": 1.570591,
     "end_time": "2021-03-09T18:33:14.862885",
     "exception": false,
     "start_time": "2021-03-09T18:33:13.292294",
     "status": "completed"
    },
    "tags": []
   },
   "outputs": [
    {
     "name": "stdout",
     "output_type": "stream",
     "text": [
      "Found 2400 images belonging to 2 classes.\n",
      "Found 800 images belonging to 2 classes.\n"
     ]
    }
   ],
   "source": [
    "datagen = ImageDataGenerator(rescale=1.0/255)\n",
    "\n",
    "train_gen = datagen.flow_from_directory(Processed_datasets['train_dir'],\n",
    "                                        target_size=(150,150),\n",
    "                                        batch_size=train_batch_size,\n",
    "                                        class_mode='categorical')\n",
    "\n",
    "val_gen = datagen.flow_from_directory(Processed_datasets['val_dir'],\n",
    "                                        target_size=(150,150),\n",
    "                                        batch_size=val_batch_size,\n",
    "                                        class_mode='categorical')\n"
   ]
  },
  {
   "cell_type": "code",
   "execution_count": 12,
   "metadata": {
    "execution": {
     "iopub.execute_input": "2021-03-09T18:33:14.891495Z",
     "iopub.status.busy": "2021-03-09T18:33:14.890854Z",
     "iopub.status.idle": "2021-03-09T18:33:25.281281Z",
     "shell.execute_reply": "2021-03-09T18:33:25.281834Z"
    },
    "papermill": {
     "duration": 10.407517,
     "end_time": "2021-03-09T18:33:25.282003",
     "exception": false,
     "start_time": "2021-03-09T18:33:14.874486",
     "status": "completed"
    },
    "tags": []
   },
   "outputs": [
    {
     "name": "stderr",
     "output_type": "stream",
     "text": [
      "/opt/conda/lib/python3.7/site-packages/ipykernel_launcher.py:5: FutureWarning: arrays to stack must be passed as a \"sequence\" type such as list or tuple. Support for non-sequence iterables such as generators is deprecated as of NumPy 1.16 and will raise an error in the future.\n",
      "  \"\"\"\n"
     ]
    }
   ],
   "source": [
    "class_mode='binary'\n",
    "from itertools import zip_longest as izip\n",
    "x_tran, y = izip(*(train_gen[i] for i in range(len(train_gen))))\n",
    "x_tran = np.vstack(x_tran)\n",
    "y_tran = np.vstack(map(to_categorical, y))[:,0] if class_mode == 'binary' else y\n"
   ]
  },
  {
   "cell_type": "code",
   "execution_count": 13,
   "metadata": {
    "execution": {
     "iopub.execute_input": "2021-03-09T18:33:25.311529Z",
     "iopub.status.busy": "2021-03-09T18:33:25.310746Z",
     "iopub.status.idle": "2021-03-09T18:33:28.887937Z",
     "shell.execute_reply": "2021-03-09T18:33:28.887098Z"
    },
    "papermill": {
     "duration": 3.594123,
     "end_time": "2021-03-09T18:33:28.888087",
     "exception": false,
     "start_time": "2021-03-09T18:33:25.293964",
     "status": "completed"
    },
    "tags": []
   },
   "outputs": [
    {
     "name": "stderr",
     "output_type": "stream",
     "text": [
      "/opt/conda/lib/python3.7/site-packages/ipykernel_launcher.py:6: FutureWarning: arrays to stack must be passed as a \"sequence\" type such as list or tuple. Support for non-sequence iterables such as generators is deprecated as of NumPy 1.16 and will raise an error in the future.\n",
      "  \n"
     ]
    }
   ],
   "source": [
    "#from itertools import izip, imap\n",
    "class_mode='binary'\n",
    "from itertools import zip_longest as izip\n",
    "x_val, y = izip(*(val_gen[i] for i in range(len(val_gen))))\n",
    "x_val = np.vstack(x_val)\n",
    "y_val = np.vstack(map(to_categorical, y))[:,0] if class_mode == 'binary' else y\n"
   ]
  },
  {
   "cell_type": "code",
   "execution_count": 14,
   "metadata": {
    "execution": {
     "iopub.execute_input": "2021-03-09T18:33:28.916854Z",
     "iopub.status.busy": "2021-03-09T18:33:28.916310Z",
     "iopub.status.idle": "2021-03-09T18:33:35.654253Z",
     "shell.execute_reply": "2021-03-09T18:33:35.654859Z"
    },
    "id": "l-i3c_UESE2P",
    "outputId": "dedac7c8-475a-41ff-c571-39dd3a4d5419",
    "papermill": {
     "duration": 6.755059,
     "end_time": "2021-03-09T18:33:35.655084",
     "exception": false,
     "start_time": "2021-03-09T18:33:28.900025",
     "status": "completed"
    },
    "tags": []
   },
   "outputs": [
    {
     "name": "stdout",
     "output_type": "stream",
     "text": [
      "Model: \"model\"\n",
      "__________________________________________________________________________________________________\n",
      "Layer (type)                    Output Shape         Param #     Connected to                     \n",
      "==================================================================================================\n",
      "input_1 (InputLayer)            [(10, 150, 150, 3)]  0                                            \n",
      "__________________________________________________________________________________________________\n",
      "conv1 (Conv2D)                  (10, 142, 142, 256)  62464       input_1[0][0]                    \n",
      "__________________________________________________________________________________________________\n",
      "primarycap_conv2d (Conv2D)      (10, 67, 67, 256)    5308672     conv1[0][0]                      \n",
      "__________________________________________________________________________________________________\n",
      "primarycap_reshape (Reshape)    (10, 143648, 8)      0           primarycap_conv2d[0][0]          \n",
      "__________________________________________________________________________________________________\n",
      "primarycap_squash (Lambda)      (10, 143648, 8)      0           primarycap_reshape[0][0]         \n",
      "__________________________________________________________________________________________________\n",
      "digitcaps (CapsuleLayer)        (10, 2, 16)          36773888    primarycap_squash[0][0]          \n",
      "__________________________________________________________________________________________________\n",
      "input_2 (InputLayer)            [(None, 2)]          0                                            \n",
      "__________________________________________________________________________________________________\n",
      "mask (Mask)                     (10, 32)             0           digitcaps[0][0]                  \n",
      "                                                                 input_2[0][0]                    \n",
      "__________________________________________________________________________________________________\n",
      "capsnet (Length)                (10, 2)              0           digitcaps[0][0]                  \n",
      "__________________________________________________________________________________________________\n",
      "decoder (Sequential)            (None, 150, 150, 3)  69729708    mask[0][0]                       \n",
      "==================================================================================================\n",
      "Total params: 111,874,732\n",
      "Trainable params: 111,874,732\n",
      "Non-trainable params: 0\n",
      "__________________________________________________________________________________________________\n"
     ]
    }
   ],
   "source": [
    "model, eval_model, manipulate_model = CapsNet(input_shape=(150,150,3),n_class=2,routings=routings,batch_size=batch_size)\n",
    "model.summary()\n",
    "\n"
   ]
  },
  {
   "cell_type": "code",
   "execution_count": 15,
   "metadata": {
    "execution": {
     "iopub.execute_input": "2021-03-09T18:33:35.697518Z",
     "iopub.status.busy": "2021-03-09T18:33:35.694588Z",
     "iopub.status.idle": "2021-03-09T19:16:52.967608Z",
     "shell.execute_reply": "2021-03-09T19:16:52.966909Z"
    },
    "papermill": {
     "duration": 2597.297393,
     "end_time": "2021-03-09T19:16:52.967783",
     "exception": false,
     "start_time": "2021-03-09T18:33:35.670390",
     "status": "completed"
    },
    "tags": []
   },
   "outputs": [
    {
     "name": "stdout",
     "output_type": "stream",
     "text": [
      "Epoch 1/30\n",
      "240/240 [==============================] - 93s 364ms/step - loss: 0.6771 - capsnet_loss: 0.4136 - decoder_loss: 0.6722 - capsnet_accuracy: 0.5014 - val_loss: 0.6569 - val_capsnet_loss: 0.4050 - val_decoder_loss: 0.6427 - val_capsnet_accuracy: 0.5000\n",
      "\n",
      "Epoch 00001: val_capsnet_accuracy improved from -inf to 0.50000, saving model to weights-baseline.h5\n",
      "Epoch 2/30\n",
      "240/240 [==============================] - 86s 358ms/step - loss: 0.6531 - capsnet_loss: 0.4050 - decoder_loss: 0.6330 - capsnet_accuracy: 0.4932 - val_loss: 0.6512 - val_capsnet_loss: 0.4050 - val_decoder_loss: 0.6280 - val_capsnet_accuracy: 0.5000\n",
      "\n",
      "Epoch 00002: val_capsnet_accuracy did not improve from 0.50000\n",
      "Epoch 3/30\n",
      "240/240 [==============================] - 86s 358ms/step - loss: 0.6494 - capsnet_loss: 0.4050 - decoder_loss: 0.6236 - capsnet_accuracy: 0.4904 - val_loss: 0.6472 - val_capsnet_loss: 0.4050 - val_decoder_loss: 0.6177 - val_capsnet_accuracy: 0.5125\n",
      "\n",
      "Epoch 00003: val_capsnet_accuracy improved from 0.50000 to 0.51250, saving model to weights-baseline.h5\n",
      "Epoch 4/30\n",
      "240/240 [==============================] - 86s 358ms/step - loss: 0.6462 - capsnet_loss: 0.4050 - decoder_loss: 0.6153 - capsnet_accuracy: 0.5665 - val_loss: 0.6467 - val_capsnet_loss: 0.4050 - val_decoder_loss: 0.6167 - val_capsnet_accuracy: 0.6012\n",
      "\n",
      "Epoch 00004: val_capsnet_accuracy improved from 0.51250 to 0.60125, saving model to weights-baseline.h5\n",
      "Epoch 5/30\n",
      "240/240 [==============================] - 86s 358ms/step - loss: 0.6456 - capsnet_loss: 0.4050 - decoder_loss: 0.6138 - capsnet_accuracy: 0.5752 - val_loss: 0.6458 - val_capsnet_loss: 0.4050 - val_decoder_loss: 0.6142 - val_capsnet_accuracy: 0.5425\n",
      "\n",
      "Epoch 00005: val_capsnet_accuracy did not improve from 0.60125\n",
      "Epoch 6/30\n",
      "240/240 [==============================] - 86s 358ms/step - loss: 0.6441 - capsnet_loss: 0.4050 - decoder_loss: 0.6100 - capsnet_accuracy: 0.5673 - val_loss: 0.6453 - val_capsnet_loss: 0.4050 - val_decoder_loss: 0.6131 - val_capsnet_accuracy: 0.5163\n",
      "\n",
      "Epoch 00006: val_capsnet_accuracy did not improve from 0.60125\n",
      "Epoch 7/30\n",
      "240/240 [==============================] - 86s 358ms/step - loss: 0.6434 - capsnet_loss: 0.4050 - decoder_loss: 0.6082 - capsnet_accuracy: 0.5349 - val_loss: 0.6433 - val_capsnet_loss: 0.4050 - val_decoder_loss: 0.6079 - val_capsnet_accuracy: 0.5863\n",
      "\n",
      "Epoch 00007: val_capsnet_accuracy did not improve from 0.60125\n",
      "Epoch 8/30\n",
      "240/240 [==============================] - 86s 358ms/step - loss: 0.6424 - capsnet_loss: 0.4050 - decoder_loss: 0.6056 - capsnet_accuracy: 0.5901 - val_loss: 0.6427 - val_capsnet_loss: 0.4050 - val_decoder_loss: 0.6063 - val_capsnet_accuracy: 0.6263\n",
      "\n",
      "Epoch 00008: val_capsnet_accuracy improved from 0.60125 to 0.62625, saving model to weights-baseline.h5\n",
      "Epoch 9/30\n",
      "240/240 [==============================] - 86s 359ms/step - loss: 0.6415 - capsnet_loss: 0.4050 - decoder_loss: 0.6033 - capsnet_accuracy: 0.5934 - val_loss: 0.6419 - val_capsnet_loss: 0.4050 - val_decoder_loss: 0.6044 - val_capsnet_accuracy: 0.5188\n",
      "\n",
      "Epoch 00009: val_capsnet_accuracy did not improve from 0.62625\n",
      "Epoch 10/30\n",
      "240/240 [==============================] - 86s 359ms/step - loss: 0.6408 - capsnet_loss: 0.4050 - decoder_loss: 0.6015 - capsnet_accuracy: 0.5831 - val_loss: 0.6405 - val_capsnet_loss: 0.4050 - val_decoder_loss: 0.6008 - val_capsnet_accuracy: 0.5475\n",
      "\n",
      "Epoch 00010: val_capsnet_accuracy did not improve from 0.62625\n",
      "Epoch 11/30\n",
      "240/240 [==============================] - 88s 365ms/step - loss: 0.6398 - capsnet_loss: 0.4050 - decoder_loss: 0.5989 - capsnet_accuracy: 0.5487 - val_loss: 0.6398 - val_capsnet_loss: 0.4050 - val_decoder_loss: 0.5989 - val_capsnet_accuracy: 0.5263\n",
      "\n",
      "Epoch 00011: val_capsnet_accuracy did not improve from 0.62625\n",
      "Epoch 12/30\n",
      "240/240 [==============================] - 86s 359ms/step - loss: 0.6396 - capsnet_loss: 0.4050 - decoder_loss: 0.5985 - capsnet_accuracy: 0.5155 - val_loss: 0.6395 - val_capsnet_loss: 0.4050 - val_decoder_loss: 0.5983 - val_capsnet_accuracy: 0.5038\n",
      "\n",
      "Epoch 00012: val_capsnet_accuracy did not improve from 0.62625\n",
      "Epoch 13/30\n",
      "240/240 [==============================] - 86s 360ms/step - loss: 0.6385 - capsnet_loss: 0.4050 - decoder_loss: 0.5957 - capsnet_accuracy: 0.5176 - val_loss: 0.6388 - val_capsnet_loss: 0.4050 - val_decoder_loss: 0.5966 - val_capsnet_accuracy: 0.5075\n",
      "\n",
      "Epoch 00013: val_capsnet_accuracy did not improve from 0.62625\n",
      "Epoch 14/30\n",
      "240/240 [==============================] - 86s 359ms/step - loss: 0.6378 - capsnet_loss: 0.4050 - decoder_loss: 0.5939 - capsnet_accuracy: 0.5067 - val_loss: 0.6382 - val_capsnet_loss: 0.4050 - val_decoder_loss: 0.5950 - val_capsnet_accuracy: 0.5125\n",
      "\n",
      "Epoch 00014: val_capsnet_accuracy did not improve from 0.62625\n",
      "Epoch 15/30\n",
      "240/240 [==============================] - 86s 358ms/step - loss: 0.6378 - capsnet_loss: 0.4050 - decoder_loss: 0.5939 - capsnet_accuracy: 0.4942 - val_loss: 0.6381 - val_capsnet_loss: 0.4050 - val_decoder_loss: 0.5946 - val_capsnet_accuracy: 0.5150\n",
      "\n",
      "Epoch 00015: val_capsnet_accuracy did not improve from 0.62625\n",
      "Epoch 16/30\n",
      "240/240 [==============================] - 86s 358ms/step - loss: 0.6368 - capsnet_loss: 0.4050 - decoder_loss: 0.5912 - capsnet_accuracy: 0.5353 - val_loss: 0.6374 - val_capsnet_loss: 0.4050 - val_decoder_loss: 0.5929 - val_capsnet_accuracy: 0.5175\n",
      "\n",
      "Epoch 00016: val_capsnet_accuracy did not improve from 0.62625\n",
      "Epoch 17/30\n",
      "240/240 [==============================] - 86s 359ms/step - loss: 0.6367 - capsnet_loss: 0.4050 - decoder_loss: 0.5912 - capsnet_accuracy: 0.5534 - val_loss: 0.6369 - val_capsnet_loss: 0.4050 - val_decoder_loss: 0.5916 - val_capsnet_accuracy: 0.5487\n",
      "\n",
      "Epoch 00017: val_capsnet_accuracy did not improve from 0.62625\n",
      "Epoch 18/30\n",
      "240/240 [==============================] - 86s 358ms/step - loss: 0.6363 - capsnet_loss: 0.4050 - decoder_loss: 0.5900 - capsnet_accuracy: 0.5636 - val_loss: 0.6366 - val_capsnet_loss: 0.4050 - val_decoder_loss: 0.5909 - val_capsnet_accuracy: 0.5425\n",
      "\n",
      "Epoch 00018: val_capsnet_accuracy did not improve from 0.62625\n",
      "Epoch 19/30\n",
      "240/240 [==============================] - 86s 358ms/step - loss: 0.6355 - capsnet_loss: 0.4050 - decoder_loss: 0.5879 - capsnet_accuracy: 0.5529 - val_loss: 0.6363 - val_capsnet_loss: 0.4050 - val_decoder_loss: 0.5901 - val_capsnet_accuracy: 0.5263\n",
      "\n",
      "Epoch 00019: val_capsnet_accuracy did not improve from 0.62625\n",
      "Epoch 20/30\n",
      "240/240 [==============================] - 86s 359ms/step - loss: 0.6343 - capsnet_loss: 0.4050 - decoder_loss: 0.5850 - capsnet_accuracy: 0.5581 - val_loss: 0.6362 - val_capsnet_loss: 0.4050 - val_decoder_loss: 0.5899 - val_capsnet_accuracy: 0.5500\n",
      "\n",
      "Epoch 00020: val_capsnet_accuracy did not improve from 0.62625\n",
      "Epoch 21/30\n",
      "240/240 [==============================] - 86s 359ms/step - loss: 0.6345 - capsnet_loss: 0.4050 - decoder_loss: 0.5854 - capsnet_accuracy: 0.5534 - val_loss: 0.6360 - val_capsnet_loss: 0.4050 - val_decoder_loss: 0.5893 - val_capsnet_accuracy: 0.5537\n",
      "\n",
      "Epoch 00021: val_capsnet_accuracy did not improve from 0.62625\n",
      "Epoch 22/30\n",
      "240/240 [==============================] - 86s 360ms/step - loss: 0.6343 - capsnet_loss: 0.4050 - decoder_loss: 0.5849 - capsnet_accuracy: 0.5446 - val_loss: 0.6359 - val_capsnet_loss: 0.4050 - val_decoder_loss: 0.5891 - val_capsnet_accuracy: 0.5612\n",
      "\n",
      "Epoch 00022: val_capsnet_accuracy did not improve from 0.62625\n",
      "Epoch 23/30\n",
      "240/240 [==============================] - 86s 360ms/step - loss: 0.6340 - capsnet_loss: 0.4050 - decoder_loss: 0.5843 - capsnet_accuracy: 0.5382 - val_loss: 0.6360 - val_capsnet_loss: 0.4050 - val_decoder_loss: 0.5892 - val_capsnet_accuracy: 0.5550\n",
      "\n",
      "Epoch 00023: val_capsnet_accuracy did not improve from 0.62625\n",
      "Epoch 24/30\n",
      "240/240 [==============================] - 86s 360ms/step - loss: 0.6337 - capsnet_loss: 0.4050 - decoder_loss: 0.5834 - capsnet_accuracy: 0.5552 - val_loss: 0.6354 - val_capsnet_loss: 0.4050 - val_decoder_loss: 0.5877 - val_capsnet_accuracy: 0.5775\n",
      "\n",
      "Epoch 00024: val_capsnet_accuracy did not improve from 0.62625\n",
      "Epoch 25/30\n",
      "240/240 [==============================] - 86s 360ms/step - loss: 0.6344 - capsnet_loss: 0.4050 - decoder_loss: 0.5851 - capsnet_accuracy: 0.5641 - val_loss: 0.6352 - val_capsnet_loss: 0.4050 - val_decoder_loss: 0.5873 - val_capsnet_accuracy: 0.5238\n",
      "\n",
      "Epoch 00025: val_capsnet_accuracy did not improve from 0.62625\n",
      "Epoch 26/30\n",
      "240/240 [==============================] - 86s 359ms/step - loss: 0.6337 - capsnet_loss: 0.4050 - decoder_loss: 0.5834 - capsnet_accuracy: 0.5568 - val_loss: 0.6351 - val_capsnet_loss: 0.4050 - val_decoder_loss: 0.5869 - val_capsnet_accuracy: 0.5713\n",
      "\n",
      "Epoch 00026: val_capsnet_accuracy did not improve from 0.62625\n",
      "Epoch 27/30\n",
      "240/240 [==============================] - 86s 358ms/step - loss: 0.6328 - capsnet_loss: 0.4050 - decoder_loss: 0.5813 - capsnet_accuracy: 0.5781 - val_loss: 0.6357 - val_capsnet_loss: 0.4050 - val_decoder_loss: 0.5887 - val_capsnet_accuracy: 0.6212\n",
      "\n",
      "Epoch 00027: val_capsnet_accuracy did not improve from 0.62625\n",
      "Epoch 28/30\n",
      "240/240 [==============================] - 86s 358ms/step - loss: 0.6339 - capsnet_loss: 0.4050 - decoder_loss: 0.5841 - capsnet_accuracy: 0.5966 - val_loss: 0.6348 - val_capsnet_loss: 0.4050 - val_decoder_loss: 0.5863 - val_capsnet_accuracy: 0.5487\n",
      "\n",
      "Epoch 00028: val_capsnet_accuracy did not improve from 0.62625\n",
      "Epoch 29/30\n",
      "240/240 [==============================] - 86s 359ms/step - loss: 0.6331 - capsnet_loss: 0.4050 - decoder_loss: 0.5819 - capsnet_accuracy: 0.5718 - val_loss: 0.6347 - val_capsnet_loss: 0.4050 - val_decoder_loss: 0.5860 - val_capsnet_accuracy: 0.5950\n",
      "\n",
      "Epoch 00029: val_capsnet_accuracy did not improve from 0.62625\n",
      "Epoch 30/30\n",
      "240/240 [==============================] - 86s 358ms/step - loss: 0.6334 - capsnet_loss: 0.4050 - decoder_loss: 0.5826 - capsnet_accuracy: 0.5831 - val_loss: 0.6346 - val_capsnet_loss: 0.4050 - val_decoder_loss: 0.5856 - val_capsnet_accuracy: 0.5838\n",
      "\n",
      "Epoch 00030: val_capsnet_accuracy did not improve from 0.62625\n"
     ]
    }
   ],
   "source": [
    "trained_capsule = train(model=model, data=((x_tran, y_tran), (x_val, y_val)),mode_version = \"baseline\")\n"
   ]
  }
 ],
 "metadata": {
  "kernelspec": {
   "display_name": "Python 3",
   "language": "python",
   "name": "python3"
  },
  "language_info": {
   "codemirror_mode": {
    "name": "ipython",
    "version": 3
   },
   "file_extension": ".py",
   "mimetype": "text/x-python",
   "name": "python",
   "nbconvert_exporter": "python",
   "pygments_lexer": "ipython3",
   "version": "3.7.9"
  },
  "papermill": {
   "default_parameters": {},
   "duration": 2637.529354,
   "end_time": "2021-03-09T19:16:57.503585",
   "environment_variables": {},
   "exception": null,
   "input_path": "__notebook__.ipynb",
   "output_path": "__notebook__.ipynb",
   "parameters": {},
   "start_time": "2021-03-09T18:32:59.974231",
   "version": "2.2.2"
  }
 },
 "nbformat": 4,
 "nbformat_minor": 4
}
