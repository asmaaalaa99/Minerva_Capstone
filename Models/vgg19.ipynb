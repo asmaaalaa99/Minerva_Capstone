{
 "cells": [
  {
   "cell_type": "code",
   "execution_count": 1,
   "metadata": {
    "_cell_guid": "e30e2e10-a909-485d-be9d-dc6f592911a7",
    "_uuid": "c7e569699c6d067cd9fdf9c77299775e399b2ef3",
    "execution": {
     "iopub.execute_input": "2021-03-09T17:10:13.687364Z",
     "iopub.status.busy": "2021-03-09T17:10:13.686658Z",
     "iopub.status.idle": "2021-03-09T17:10:21.314524Z",
     "shell.execute_reply": "2021-03-09T17:10:21.313809Z"
    },
    "id": "qWnuqFe2o8x2",
    "outputId": "5da50037-4aa3-47db-83e1-42db3eae5305",
    "papermill": {
     "duration": 7.655848,
     "end_time": "2021-03-09T17:10:21.314740",
     "exception": false,
     "start_time": "2021-03-09T17:10:13.658892",
     "status": "completed"
    },
    "tags": []
   },
   "outputs": [
    {
     "name": "stdout",
     "output_type": "stream",
     "text": [
      "2.4.1\n"
     ]
    }
   ],
   "source": [
    "import numpy as np\n",
    "import argparse\n",
    "from tensorflow.keras import initializers, layers\n",
    "\n",
    "import os\n",
    "from tensorflow.keras.applications.vgg16 import VGG16\n",
    "from tensorflow.keras.models import Model\n",
    "from tensorflow.keras.layers import Dense\n",
    "from tensorflow.keras.layers import Dropout,InputLayer,Flatten,Dense,BatchNormalization,MaxPooling2D,Conv2D,Input,Concatenate,LeakyReLU\n",
    "from tensorflow.keras.layers import Flatten\n",
    "# load model without classifier layers\n",
    "from tensorflow.keras.applications import VGG19\n",
    "\n",
    "from tensorflow.keras.applications import VGG19\n",
    "import tensorflow as tf\n",
    "from tensorflow.keras import callbacks\n",
    "from tensorflow.keras.preprocessing.image import ImageDataGenerator\n",
    "import re \n",
    "from sklearn.model_selection import train_test_split\n",
    "import shutil\n",
    "from tensorflow.keras import layers, models, optimizers\n",
    "from tensorflow.keras import backend as K\n",
    "from tensorflow.keras.utils import to_categorical\n",
    "import pandas as pd\n",
    "print(tf.__version__)\n",
    "import argparse\n",
    "import os\n",
    "import sys, os\n",
    "from PIL import Image\n",
    "import torch\n",
    "import glob\n",
    "from tqdm.notebook import tqdm\n",
    "import numpy as np\n",
    "import pandas as pd\n",
    "from matplotlib import pyplot as plt\n",
    "from joblib import Parallel, delayed\n",
    "import cv2\n",
    "device = 'cuda' if torch.cuda.is_available() else 'cpu'\n",
    "from tensorflow.keras.layers import Conv2D, MaxPooling2D\n",
    "from tensorflow.keras.layers import Dense, Dropout, Flatten, Activation\n",
    "from tensorflow.keras.models import Sequential\n",
    "from tensorflow.keras.applications.vgg19 import VGG19\n",
    "from tensorflow.keras.models import Model\n",
    "from tensorflow.keras.layers import Dense\n",
    "from tensorflow.keras.layers import Flatten\n",
    "from tensorflow.keras.applications.vgg16 import VGG16\n",
    "from tensorflow.keras.models import Model\n",
    "from tensorflow.keras.layers import Dense\n",
    "from tensorflow.keras.layers import Flatten\n",
    "# load model without classifier layers\n",
    "from tensorflow.keras.applications import VGG19\n",
    "\n"
   ]
  },
  {
   "cell_type": "markdown",
   "metadata": {
    "_cell_guid": "9776fd57-44e0-4211-a7a5-c7e647a10704",
    "_uuid": "f4b5499a472b312d5c5f0274ad429567aced6841",
    "id": "xYHeLw1do8x5",
    "papermill": {
     "duration": 0.014841,
     "end_time": "2021-03-09T17:10:21.344987",
     "exception": false,
     "start_time": "2021-03-09T17:10:21.330146",
     "status": "completed"
    },
    "tags": []
   },
   "source": [
    "# Capsule Layers \n",
    "Here is the implementation of the necessary layers for the CapsuleNet. These are not optimized yet and can be made significantly more performant. "
   ]
  },
  {
   "cell_type": "code",
   "execution_count": 2,
   "metadata": {
    "_cell_guid": "167d39ca-ee32-4eec-a83b-86194252b14f",
    "_uuid": "90c180a9a8c20e3fb8a93c3eb42588927cfcd6b6",
    "execution": {
     "iopub.execute_input": "2021-03-09T17:10:21.400285Z",
     "iopub.status.busy": "2021-03-09T17:10:21.398530Z",
     "iopub.status.idle": "2021-03-09T17:10:21.400854Z",
     "shell.execute_reply": "2021-03-09T17:10:21.401253Z"
    },
    "id": "dQti96GTo8x5",
    "outputId": "73dd133a-5bc2-47f2-ea08-c4de4c135fdb",
    "papermill": {
     "duration": 0.041497,
     "end_time": "2021-03-09T17:10:21.401372",
     "exception": false,
     "start_time": "2021-03-09T17:10:21.359875",
     "status": "completed"
    },
    "tags": []
   },
   "outputs": [],
   "source": [
    "class Length(layers.Layer):\n",
    "    \"\"\"\n",
    "    Compute the length of vectors. This is used to compute a Tensor that has the same shape with y_true in margin_loss.\n",
    "    Using this layer as model's output can directly predict labels by using `y_pred = np.argmax(model.predict(x), 1)`\n",
    "    inputs: shape=[None, num_vectors, dim_vector]\n",
    "    output: shape=[None, num_vectors]\n",
    "    \"\"\"\n",
    "    def call(self, inputs, **kwargs):\n",
    "        return tf.sqrt(tf.reduce_sum(tf.square(inputs), -1) + K.epsilon())\n",
    "\n",
    "    def compute_output_shape(self, input_shape):\n",
    "        return input_shape[:-1]\n",
    "\n",
    "    def get_config(self):\n",
    "        config = super(Length, self).get_config()\n",
    "        return config\n",
    "\n",
    "\n",
    "class Mask(layers.Layer):\n",
    "    \"\"\"\n",
    "    Mask a Tensor with shape=[None, num_capsule, dim_vector] either by the capsule with max length or by an additional \n",
    "    input mask. Except the max-length capsule (or specified capsule), all vectors are masked to zeros. Then flatten the\n",
    "    masked Tensor.\n",
    "    For example:\n",
    "        ```\n",
    "        x = keras.layers.Input(shape=[8, 3, 2])  # batch_size=8, each sample contains 3 capsules with dim_vector=2\n",
    "        y = keras.layers.Input(shape=[8, 3])  # True labels. 8 samples, 3 classes, one-hot coding.\n",
    "        out = Mask()(x)  # out.shape=[8, 6]\n",
    "        # or\n",
    "        out2 = Mask()([x, y])  # out2.shape=[8,6]. Masked with true labels y. Of course y can also be manipulated.\n",
    "        ```\n",
    "    \"\"\"\n",
    "    def call(self, inputs, **kwargs):\n",
    "        if type(inputs) is list:  # true label is provided with shape = [None, n_classes], i.e. one-hot code.\n",
    "            assert len(inputs) == 2\n",
    "            inputs, mask = inputs\n",
    "        else:  # if no true label, mask by the max length of capsules. Mainly used for prediction\n",
    "            # compute lengths of capsules\n",
    "            x = tf.sqrt(tf.reduce_sum(tf.square(inputs), -1))\n",
    "            # generate the mask which is a one-hot code.\n",
    "            # mask.shape=[None, n_classes]=[None, num_capsule]\n",
    "            mask = tf.one_hot(indices=tf.argmax(x, 1), depth=x.shape[1])\n",
    "\n",
    "        # inputs.shape=[None, num_capsule, dim_capsule]\n",
    "        # mask.shape=[None, num_capsule]\n",
    "        # masked.shape=[None, num_capsule * dim_capsule]\n",
    "        masked = K.batch_flatten(inputs * tf.expand_dims(mask, -1))\n",
    "        return masked\n",
    "\n",
    "    def compute_output_shape(self, input_shape):\n",
    "        if type(input_shape[0]) is tuple:  # true label provided\n",
    "            return tuple([None, input_shape[0][1] * input_shape[0][2]])\n",
    "        else:  # no true label provided\n",
    "            return tuple([None, input_shape[1] * input_shape[2]])\n",
    "\n",
    "    def get_config(self):\n",
    "        config = super(Mask, self).get_config()\n",
    "        return config\n",
    "\n",
    "\n",
    "def squash(vectors, axis=-1):\n",
    "    \"\"\"\n",
    "    The non-linear activation used in Capsule. It drives the length of a large vector to near 1 and small vector to 0\n",
    "    :param vectors: some vectors to be squashed, N-dim tensor\n",
    "    :param axis: the axis to squash\n",
    "    :return: a Tensor with same shape as input vectors\n",
    "    \"\"\"\n",
    "    s_squared_norm = tf.reduce_sum(tf.square(vectors), axis, keepdims=True)\n",
    "    scale = s_squared_norm / (1 + s_squared_norm) / tf.sqrt(s_squared_norm + K.epsilon())\n",
    "    return scale * vectors\n",
    "\n",
    "\n",
    "class CapsuleLayer(layers.Layer):\n",
    "    \"\"\"\n",
    "    The capsule layer. It is similar to Dense layer. Dense layer has `in_num` inputs, each is a scalar, the output of the\n",
    "    neuron from the former layer, and it has `out_num` output neurons. CapsuleLayer just expand the output of the neuron\n",
    "    from scalar to vector. So its input shape = [None, input_num_capsule, input_dim_capsule] and output shape = \\\n",
    "    [None, num_capsule, dim_capsule]. For Dense Layer, input_dim_capsule = dim_capsule = 1.\n",
    "    :param num_capsule: number of capsules in this layer\n",
    "    :param dim_capsule: dimension of the output vectors of the capsules in this layer\n",
    "    :param routings: number of iterations for the routing algorithm\n",
    "    \"\"\"\n",
    "    def __init__(self, num_capsule, dim_capsule, routings=3,\n",
    "                 kernel_initializer='glorot_uniform',\n",
    "                 **kwargs):\n",
    "        super(CapsuleLayer, self).__init__(**kwargs)\n",
    "        self.num_capsule = num_capsule\n",
    "        self.dim_capsule = dim_capsule\n",
    "        self.routings = routings\n",
    "        self.kernel_initializer = initializers.get(kernel_initializer)\n",
    "\n",
    "    def build(self, input_shape):\n",
    "        assert len(input_shape) >= 3, \"The input Tensor should have shape=[None, input_num_capsule, input_dim_capsule]\"\n",
    "        self.input_num_capsule = input_shape[1]\n",
    "        self.input_dim_capsule = input_shape[2]\n",
    "\n",
    "        self.W = self.add_weight(shape=[self.num_capsule, self.input_num_capsule,\n",
    "                                        self.dim_capsule, self.input_dim_capsule],\n",
    "                                 initializer=self.kernel_initializer,\n",
    "                                 name='W')\n",
    "\n",
    "        self.built = True\n",
    "\n",
    "    def call(self, inputs, training=None):\n",
    "        \n",
    "        inputs_expand = tf.expand_dims(tf.expand_dims(inputs, 1), -1)\n",
    "\n",
    "        \n",
    "        inputs_tiled = tf.tile(inputs_expand, [1, self.num_capsule, 1, 1, 1])\n",
    "\n",
    "        \n",
    "        inputs_hat = tf.squeeze(tf.map_fn(lambda x: tf.matmul(self.W, x), elems=inputs_tiled))\n",
    "\n",
    "        b = tf.zeros(shape=[inputs.shape[0], self.num_capsule, 1, self.input_num_capsule])\n",
    "\n",
    "        assert self.routings > 0, 'The routings should be > 0.'\n",
    "        for i in range(self.routings):\n",
    "            c = tf.nn.softmax(b, axis=1)\n",
    "\n",
    "            outputs = squash(tf.matmul(c, inputs_hat))  # [None, 10, 1, 16]\n",
    "\n",
    "            if i < self.routings - 1:\n",
    "\n",
    "                b += tf.matmul(outputs, inputs_hat, transpose_b=True)\n",
    "\n",
    "        return tf.squeeze(outputs)\n",
    "\n",
    "    def compute_output_shape(self, input_shape):\n",
    "        return tuple([None, self.num_capsule, self.dim_capsule])\n",
    "\n",
    "    def get_config(self):\n",
    "        config = {\n",
    "            'num_capsule': self.num_capsule,\n",
    "            'dim_capsule': self.dim_capsule,\n",
    "            'routings': self.routings\n",
    "        }\n",
    "        base_config = super(CapsuleLayer, self).get_config()\n",
    "        return dict(list(base_config.items()) + list(config.items()))\n",
    "\n",
    "\n",
    "def PrimaryCap(inputs, dim_capsule, n_channels, kernel_size, strides, padding):\n",
    "    \"\"\"\n",
    "    Apply Conv2D `n_channels` times and concatenate all capsules\n",
    "    :param inputs: 4D tensor, shape=[None, width, height, channels]\n",
    "    :param dim_capsule: the dim of the output vector of capsule\n",
    "    :param n_channels: the number of types of capsules\n",
    "    :return: output tensor, shape=[None, num_capsule, dim_capsule]\n",
    "    \"\"\"\n",
    "    output = layers.Conv2D(filters=dim_capsule*n_channels, kernel_size=kernel_size, strides=strides, padding=padding,\n",
    "                           name='primarycap_conv2d')(inputs)\n",
    "    outputs = layers.Reshape(target_shape=[-1, dim_capsule], name='primarycap_reshape')(output)\n",
    "    return layers.Lambda(squash, name='primarycap_squash')(outputs)\n",
    "\n"
   ]
  },
  {
   "cell_type": "code",
   "execution_count": 3,
   "metadata": {
    "_cell_guid": "bc101123-d53c-4c2e-a187-101c434885da",
    "_uuid": "2497453eb1895f624ad84617dd98c230f5640304",
    "execution": {
     "iopub.execute_input": "2021-03-09T17:10:21.442034Z",
     "iopub.status.busy": "2021-03-09T17:10:21.440932Z",
     "iopub.status.idle": "2021-03-09T17:10:21.443436Z",
     "shell.execute_reply": "2021-03-09T17:10:21.443801Z"
    },
    "id": "HCMIciV0o8x9",
    "papermill": {
     "duration": 0.027892,
     "end_time": "2021-03-09T17:10:21.443920",
     "exception": false,
     "start_time": "2021-03-09T17:10:21.416028",
     "status": "completed"
    },
    "tags": []
   },
   "outputs": [],
   "source": [
    "\n",
    "#K.set_image_data_format('channels_last')\n",
    "\n",
    "def CapsNet(input_shape, n_class, routings, batch_size):\n",
    "    \"\"\"\n",
    "    A Capsule Network on MNIST.\n",
    "    :param input_shape: data shape, 3d, [width, height, channels]\n",
    "    :param n_class: number of classes\n",
    "    :param routings: number of routing iterations\n",
    "    :param batch_size: size of batch\n",
    "    :return: Two Keras Models, the first one used for training, and the second one for evaluation.\n",
    "            `eval_model` can also be used for training.\n",
    "    \"\"\"\n",
    "\n",
    "    \"\"\"\n",
    "    \"\"\"\n",
    "    x = layers.Input(shape=input_shape, batch_size=batch_size)\n",
    "\n",
    "    # Layer 1: Just a conventional Conv2D layer\n",
    "    conv1 = layers.Conv2D(filters=256, kernel_size=9, strides=1, padding='valid', activation='relu', name='conv1')(x)\n",
    "\n",
    "    # Layer 2: Conv2D layer with `squash` activation, then reshape to [None, num_capsule, dim_capsule]\n",
    "    primarycaps = PrimaryCap(conv1, dim_capsule=8, n_channels=32, kernel_size=9, strides=2, padding='valid')\n",
    "\n",
    "    # Layer 3: Capsule layer. Routing algorithm works here.\n",
    "    digitcaps = CapsuleLayer(num_capsule=n_class, dim_capsule=16, routings=routings, name='digitcaps')(primarycaps)\n",
    "\n",
    "    # Layer 4: This is an auxiliary layer to replace each capsule with its length. Just to match the true label's shape.\n",
    "    # If using tensorflow, this will not be necessary. :)\n",
    "    out_caps = Length(name='capsnet')(digitcaps)\n",
    "\n",
    "    # Decoder network.\n",
    "    y = layers.Input(shape=(n_class,))\n",
    "    masked_by_y = Mask()([digitcaps, y])  # The true label is used to mask the output of capsule layer. For training\n",
    "    masked = Mask()(digitcaps)  # Mask using the capsule with maximal length. For prediction\n",
    "\n",
    "    # Shared Decoder model in training and prediction\n",
    "    decoder = models.Sequential(name='decoder')\n",
    "    decoder.add(layers.Dense(512, activation='relu', input_dim=16 * n_class))\n",
    "    decoder.add(layers.Dropout(0.3))\n",
    "    decoder.add(layers.Dense(1024, activation='relu'))\n",
    "    decoder.add(layers.Dense(np.prod(input_shape), activation='sigmoid'))\n",
    "    decoder.add(layers.Reshape(target_shape=input_shape, name='out_recon'))\n",
    "\n",
    "    # Models for training and evaluation (prediction)\n",
    "    train_model = models.Model([x, y], [out_caps, decoder(masked_by_y)])\n",
    "    eval_model = models.Model(x, [out_caps, decoder(masked)])\n",
    "\n",
    "    # manipulate model\n",
    "    noise = layers.Input(shape=(n_class, 16))\n",
    "    noised_digitcaps = layers.Add()([digitcaps, noise])\n",
    "    masked_noised_y = Mask()([noised_digitcaps, y])\n",
    "    manipulate_model = models.Model([x, y, noise], decoder(masked_noised_y))\n",
    "    return train_model, eval_model, manipulate_model"
   ]
  },
  {
   "cell_type": "code",
   "execution_count": 4,
   "metadata": {
    "_cell_guid": "c6d84e5a-c33c-40c8-89c3-aba3454f7025",
    "_uuid": "9f27c6b0623ebffb6c8a24579f9dd4e321d6b1c2",
    "execution": {
     "iopub.execute_input": "2021-03-09T17:10:21.479427Z",
     "iopub.status.busy": "2021-03-09T17:10:21.477714Z",
     "iopub.status.idle": "2021-03-09T17:10:21.480023Z",
     "shell.execute_reply": "2021-03-09T17:10:21.480420Z"
    },
    "id": "LS09Ic7qo8x_",
    "papermill": {
     "duration": 0.02198,
     "end_time": "2021-03-09T17:10:21.480534",
     "exception": false,
     "start_time": "2021-03-09T17:10:21.458554",
     "status": "completed"
    },
    "tags": []
   },
   "outputs": [],
   "source": [
    "def margin_loss(y_true, y_pred):\n",
    "    \"\"\"\n",
    "    Margin loss for Eq.(4). When y_true[i, :] contains not just one `1`, this loss should work too. Not test it.\n",
    "    :param y_true: [None, n_classes]\n",
    "    :param y_pred: [None, num_capsule]\n",
    "    :return: a scalar loss value.\n",
    "    \"\"\"\n",
    "    # return tf.reduce_mean(tf.square(y_pred))\n",
    "    L = y_true * tf.square(tf.maximum(0., 0.9 - y_pred)) + \\\n",
    "        0.5 * (1 - y_true) * tf.square(tf.maximum(0., y_pred - 0.1))\n",
    "\n",
    "    return tf.reduce_mean(tf.reduce_sum(L, 1))"
   ]
  },
  {
   "cell_type": "code",
   "execution_count": 5,
   "metadata": {
    "_cell_guid": "e698ab37-4e74-43e6-b35b-a0507449d916",
    "_uuid": "c0374dabdf452026e3f231ffe689b5dd9f99288b",
    "execution": {
     "iopub.execute_input": "2021-03-09T17:10:21.519486Z",
     "iopub.status.busy": "2021-03-09T17:10:21.518158Z",
     "iopub.status.idle": "2021-03-09T17:10:21.520535Z",
     "shell.execute_reply": "2021-03-09T17:10:21.520932Z"
    },
    "id": "TZJyVmido8yK",
    "papermill": {
     "duration": 0.026007,
     "end_time": "2021-03-09T17:10:21.521047",
     "exception": false,
     "start_time": "2021-03-09T17:10:21.495040",
     "status": "completed"
    },
    "tags": []
   },
   "outputs": [],
   "source": [
    "def train(model, data,mode_version):\n",
    "#def train(model, train_gen, val_gen,args):\n",
    "\n",
    "    \"\"\"\n",
    "    Training a CapsuleNet\n",
    "    :param model: the CapsuleNet model\n",
    "    :param data: a tuple containing training and testing data, like `((x_train, y_train), (x_test, y_test))`\n",
    "    :param args: arguments\n",
    "    :return: The trained model\n",
    "    \"\"\"\n",
    "    # unpacking the data\n",
    "    (x_train, y_train), (x_test, y_test) = data\n",
    "\n",
    "    # compile the model\n",
    "    checkpoint = callbacks.ModelCheckpoint(f'weights-{mode_version}.h5', monitor='val_capsnet_accuracy',\n",
    "                                           save_best_only=True, save_weights_only=True, verbose=1)\n",
    "    model.compile(optimizer=optimizers.Adam(0.0005),\n",
    "                  loss=[margin_loss, 'binary_crossentropy'],\n",
    "                  loss_weights=[1., 0.392],\n",
    "                  metrics={'capsnet': 'accuracy'})\n",
    "\n",
    "\n",
    "    def train_generator(x, y, batch_size, shift_fraction=0.):\n",
    "        train_datagen = ImageDataGenerator(width_shift_range=shift_fraction,\n",
    "                                           height_shift_range=shift_fraction) \n",
    "        generator = train_datagen.flow(x, y, batch_size=batch_size)\n",
    "        while 1:\n",
    "            x_batch, y_batch = generator.next()\n",
    "            yield (x_batch, y_batch), (y_batch, x_batch)\n",
    "\n",
    "    model.fit(train_generator(x_train, y_train, batch_size),\n",
    "              steps_per_epoch=int(np.shape(y_train)[0] / batch_size),\n",
    "              epochs=epochs,\n",
    "              validation_data=((x_test, y_test), (y_test, x_test)), batch_size=batch_size, callbacks =[checkpoint])\n",
    "    capsule_history = pd.DataFrame(model.history.history)\n",
    "    capsule_history.to_csv(f\"{mode_version}_capsule_history.csv\")\n",
    "    return model\n"
   ]
  },
  {
   "cell_type": "code",
   "execution_count": 6,
   "metadata": {
    "execution": {
     "iopub.execute_input": "2021-03-09T17:10:21.555953Z",
     "iopub.status.busy": "2021-03-09T17:10:21.555448Z",
     "iopub.status.idle": "2021-03-09T17:10:21.558833Z",
     "shell.execute_reply": "2021-03-09T17:10:21.559271Z"
    },
    "id": "_EKbfeEhiYkr",
    "outputId": "2c7bb18a-fcdc-44c1-8d91-2ae9be8488f0",
    "papermill": {
     "duration": 0.022713,
     "end_time": "2021-03-09T17:10:21.559455",
     "exception": false,
     "start_time": "2021-03-09T17:10:21.536742",
     "status": "completed"
    },
    "tags": []
   },
   "outputs": [],
   "source": [
    "epochs = 30\n",
    "batch_size = 10\n",
    "lr_decay = 0.9\n",
    "routings = 1\n",
    "shift_fraction = 0.1\n",
    "train_dir = '/Users/asmaaaly/Minerva/Minerva_Capstone/base__dir/train_dir'\n",
    "val_dir = '/Users/asmaaaly/Minerva/Minerva_Capstone/base__dir/val_dir'\n",
    "test_dir = '/Users/asmaaaly/Minerva/Minerva_Capstone/base__dir/test_dir'"
   ]
  },
  {
   "cell_type": "code",
   "execution_count": 7,
   "metadata": {
    "execution": {
     "iopub.execute_input": "2021-03-09T17:10:21.593603Z",
     "iopub.status.busy": "2021-03-09T17:10:21.592307Z",
     "iopub.status.idle": "2021-03-09T17:10:21.594725Z",
     "shell.execute_reply": "2021-03-09T17:10:21.595219Z"
    },
    "papermill": {
     "duration": 0.021115,
     "end_time": "2021-03-09T17:10:21.595368",
     "exception": false,
     "start_time": "2021-03-09T17:10:21.574253",
     "status": "completed"
    },
    "tags": []
   },
   "outputs": [],
   "source": [
    "Processed_datasets = {\n",
    "    'train_dir': '../input/capstone-dataset/base__dir/train_dir',\n",
    "    'val_dir': '../input/capstone-dataset/base__dir/val_dir',\n",
    "    'test_dir':'../input/capstone-dataset/base__dir/test_dir'\n",
    "    \n",
    "}\n"
   ]
  },
  {
   "cell_type": "code",
   "execution_count": 8,
   "metadata": {
    "execution": {
     "iopub.execute_input": "2021-03-09T17:10:21.640013Z",
     "iopub.status.busy": "2021-03-09T17:10:21.639529Z",
     "iopub.status.idle": "2021-03-09T17:10:21.691766Z",
     "shell.execute_reply": "2021-03-09T17:10:21.688302Z"
    },
    "papermill": {
     "duration": 0.082048,
     "end_time": "2021-03-09T17:10:21.691883",
     "exception": false,
     "start_time": "2021-03-09T17:10:21.609835",
     "status": "completed"
    },
    "tags": []
   },
   "outputs": [
    {
     "data": {
      "text/plain": [
       "'\\ndf_train = pd.read_csv(\"/Users/asmaaaly/Minerva/Minerva_Capstone/base__dir/train_data.csv\")\\ndf_val = pd.read_csv(\"/Users/asmaaaly/Minerva/Minerva_Capstone/base__dir/val_data.csv\")\\ndf_test = pd.read_csv(\"/Users/asmaaaly/Minerva/Minerva_Capstone/base__dir/test_data.csv\")\\n'"
      ]
     },
     "execution_count": 8,
     "metadata": {},
     "output_type": "execute_result"
    }
   ],
   "source": [
    "df_train = pd.read_csv(\"../input/capstone-dataset/base__dir/train_data.csv\")\n",
    "df_val = pd.read_csv(\"../input/capstone-dataset/base__dir/val_data.csv\")\n",
    "df_test = pd.read_csv(\"../input/capstone-dataset/base__dir/test_data.csv\")\n",
    "\"\"\"\n",
    "df_train = pd.read_csv(\"/Users/asmaaaly/Minerva/Minerva_Capstone/base__dir/train_data.csv\")\n",
    "df_val = pd.read_csv(\"/Users/asmaaaly/Minerva/Minerva_Capstone/base__dir/val_data.csv\")\n",
    "df_test = pd.read_csv(\"/Users/asmaaaly/Minerva/Minerva_Capstone/base__dir/test_data.csv\")\n",
    "\"\"\"\n"
   ]
  },
  {
   "cell_type": "code",
   "execution_count": 9,
   "metadata": {
    "execution": {
     "iopub.execute_input": "2021-03-09T17:10:21.731829Z",
     "iopub.status.busy": "2021-03-09T17:10:21.730199Z",
     "iopub.status.idle": "2021-03-09T17:10:21.732477Z",
     "shell.execute_reply": "2021-03-09T17:10:21.732865Z"
    },
    "papermill": {
     "duration": 0.024366,
     "end_time": "2021-03-09T17:10:21.733000",
     "exception": false,
     "start_time": "2021-03-09T17:10:21.708634",
     "status": "completed"
    },
    "tags": []
   },
   "outputs": [],
   "source": [
    "num_train_samples = len(df_train)\n",
    "num_val_samples = len(df_val)\n",
    "num_test_samples = len(df_test)\n",
    "\n",
    "train_batch_size = 10\n",
    "val_batch_size = 10\n",
    "test_batch_size = 10\n",
    "\n",
    "train_steps = np.ceil(num_train_samples / train_batch_size)\n",
    "val_steps = np.ceil(num_val_samples / val_batch_size)\n",
    "test_steps = np.ceil(num_test_samples / test_batch_size)"
   ]
  },
  {
   "cell_type": "code",
   "execution_count": 10,
   "metadata": {
    "execution": {
     "iopub.execute_input": "2021-03-09T17:10:21.776057Z",
     "iopub.status.busy": "2021-03-09T17:10:21.775463Z",
     "iopub.status.idle": "2021-03-09T17:10:24.149073Z",
     "shell.execute_reply": "2021-03-09T17:10:24.148497Z"
    },
    "papermill": {
     "duration": 2.396843,
     "end_time": "2021-03-09T17:10:24.149252",
     "exception": false,
     "start_time": "2021-03-09T17:10:21.752409",
     "status": "completed"
    },
    "tags": []
   },
   "outputs": [
    {
     "name": "stdout",
     "output_type": "stream",
     "text": [
      "Found 2400 images belonging to 2 classes.\n",
      "Found 800 images belonging to 2 classes.\n"
     ]
    }
   ],
   "source": [
    "datagen = ImageDataGenerator(rescale=1.0/255)\n",
    "\n",
    "train_gen = datagen.flow_from_directory(Processed_datasets['train_dir'],\n",
    "                                        target_size=(150,150),\n",
    "                                        batch_size=train_batch_size,\n",
    "                                        class_mode='categorical')\n",
    "\n",
    "val_gen = datagen.flow_from_directory(Processed_datasets['val_dir'],\n",
    "                                        target_size=(150,150),\n",
    "                                        batch_size=val_batch_size,\n",
    "                                        class_mode='categorical')"
   ]
  },
  {
   "cell_type": "code",
   "execution_count": 11,
   "metadata": {
    "execution": {
     "iopub.execute_input": "2021-03-09T17:10:24.187838Z",
     "iopub.status.busy": "2021-03-09T17:10:24.187029Z",
     "iopub.status.idle": "2021-03-09T17:10:42.761480Z",
     "shell.execute_reply": "2021-03-09T17:10:42.762062Z"
    },
    "papermill": {
     "duration": 18.596497,
     "end_time": "2021-03-09T17:10:42.762280",
     "exception": false,
     "start_time": "2021-03-09T17:10:24.165783",
     "status": "completed"
    },
    "tags": []
   },
   "outputs": [
    {
     "name": "stderr",
     "output_type": "stream",
     "text": [
      "/opt/conda/lib/python3.7/site-packages/ipykernel_launcher.py:5: FutureWarning: arrays to stack must be passed as a \"sequence\" type such as list or tuple. Support for non-sequence iterables such as generators is deprecated as of NumPy 1.16 and will raise an error in the future.\n",
      "  \"\"\"\n",
      "/opt/conda/lib/python3.7/site-packages/ipykernel_launcher.py:10: FutureWarning: arrays to stack must be passed as a \"sequence\" type such as list or tuple. Support for non-sequence iterables such as generators is deprecated as of NumPy 1.16 and will raise an error in the future.\n",
      "  # Remove the CWD from sys.path while we load stuff.\n"
     ]
    }
   ],
   "source": [
    "class_mode='binary'\n",
    "from itertools import zip_longest as izip\n",
    "x_tran, y = izip(*(train_gen[i] for i in range(len(train_gen))))\n",
    "x_tran = np.vstack(x_tran)\n",
    "y_tran = np.vstack(map(to_categorical, y))[:,0] if class_mode == 'binary' else y\n",
    "class_mode='binary'\n",
    "from itertools import zip_longest as izip\n",
    "x_val, y = izip(*(val_gen[i] for i in range(len(val_gen))))\n",
    "x_val = np.vstack(x_val)\n",
    "y_val = np.vstack(map(to_categorical, y))[:,0] if class_mode == 'binary' else y\n",
    "\n"
   ]
  },
  {
   "cell_type": "code",
   "execution_count": 12,
   "metadata": {
    "execution": {
     "iopub.execute_input": "2021-03-09T17:10:42.800668Z",
     "iopub.status.busy": "2021-03-09T17:10:42.799871Z",
     "iopub.status.idle": "2021-03-09T17:10:43.783968Z",
     "shell.execute_reply": "2021-03-09T17:10:43.784570Z"
    },
    "papermill": {
     "duration": 1.005547,
     "end_time": "2021-03-09T17:10:43.784766",
     "exception": false,
     "start_time": "2021-03-09T17:10:42.779219",
     "status": "completed"
    },
    "tags": []
   },
   "outputs": [
    {
     "name": "stderr",
     "output_type": "stream",
     "text": [
      "/opt/conda/lib/python3.7/site-packages/ipykernel_launcher.py:6: FutureWarning: arrays to stack must be passed as a \"sequence\" type such as list or tuple. Support for non-sequence iterables such as generators is deprecated as of NumPy 1.16 and will raise an error in the future.\n",
      "  \n"
     ]
    }
   ],
   "source": [
    "#from itertools import izip, imap\n",
    "class_mode='binary'\n",
    "from itertools import zip_longest as izip\n",
    "x_val, y = izip(*(val_gen[i] for i in range(len(val_gen))))\n",
    "x_val = np.vstack(x_val)\n",
    "y_val = np.vstack(map(to_categorical, y))[:,0] if class_mode == 'binary' else y\n"
   ]
  },
  {
   "cell_type": "code",
   "execution_count": 13,
   "metadata": {
    "execution": {
     "iopub.execute_input": "2021-03-09T17:10:43.825311Z",
     "iopub.status.busy": "2021-03-09T17:10:43.824822Z",
     "iopub.status.idle": "2021-03-09T17:10:53.384921Z",
     "shell.execute_reply": "2021-03-09T17:10:53.383820Z"
    },
    "papermill": {
     "duration": 9.582872,
     "end_time": "2021-03-09T17:10:53.385065",
     "exception": false,
     "start_time": "2021-03-09T17:10:43.802193",
     "status": "completed"
    },
    "tags": []
   },
   "outputs": [
    {
     "name": "stdout",
     "output_type": "stream",
     "text": [
      "Downloading data from https://storage.googleapis.com/tensorflow/keras-applications/vgg19/vgg19_weights_tf_dim_ordering_tf_kernels_notop.h5\n",
      "80142336/80134624 [==============================] - 3s 0us/step\n"
     ]
    }
   ],
   "source": [
    "from tensorflow.keras.applications import VGG19\n",
    "conv_base = VGG19(weights='imagenet',\n",
    "                  include_top=False,\n",
    "                  input_shape=(150, 150, 3))"
   ]
  },
  {
   "cell_type": "code",
   "execution_count": 14,
   "metadata": {
    "execution": {
     "iopub.execute_input": "2021-03-09T17:10:53.431708Z",
     "iopub.status.busy": "2021-03-09T17:10:53.430253Z",
     "iopub.status.idle": "2021-03-09T17:10:53.440906Z",
     "shell.execute_reply": "2021-03-09T17:10:53.444714Z"
    },
    "papermill": {
     "duration": 0.039126,
     "end_time": "2021-03-09T17:10:53.444867",
     "exception": false,
     "start_time": "2021-03-09T17:10:53.405741",
     "status": "completed"
    },
    "tags": []
   },
   "outputs": [
    {
     "name": "stdout",
     "output_type": "stream",
     "text": [
      "Model: \"vgg19\"\n",
      "_________________________________________________________________\n",
      "Layer (type)                 Output Shape              Param #   \n",
      "=================================================================\n",
      "input_1 (InputLayer)         [(None, 150, 150, 3)]     0         \n",
      "_________________________________________________________________\n",
      "block1_conv1 (Conv2D)        (None, 150, 150, 64)      1792      \n",
      "_________________________________________________________________\n",
      "block1_conv2 (Conv2D)        (None, 150, 150, 64)      36928     \n",
      "_________________________________________________________________\n",
      "block1_pool (MaxPooling2D)   (None, 75, 75, 64)        0         \n",
      "_________________________________________________________________\n",
      "block2_conv1 (Conv2D)        (None, 75, 75, 128)       73856     \n",
      "_________________________________________________________________\n",
      "block2_conv2 (Conv2D)        (None, 75, 75, 128)       147584    \n",
      "_________________________________________________________________\n",
      "block2_pool (MaxPooling2D)   (None, 37, 37, 128)       0         \n",
      "_________________________________________________________________\n",
      "block3_conv1 (Conv2D)        (None, 37, 37, 256)       295168    \n",
      "_________________________________________________________________\n",
      "block3_conv2 (Conv2D)        (None, 37, 37, 256)       590080    \n",
      "_________________________________________________________________\n",
      "block3_conv3 (Conv2D)        (None, 37, 37, 256)       590080    \n",
      "_________________________________________________________________\n",
      "block3_conv4 (Conv2D)        (None, 37, 37, 256)       590080    \n",
      "_________________________________________________________________\n",
      "block3_pool (MaxPooling2D)   (None, 18, 18, 256)       0         \n",
      "_________________________________________________________________\n",
      "block4_conv1 (Conv2D)        (None, 18, 18, 512)       1180160   \n",
      "_________________________________________________________________\n",
      "block4_conv2 (Conv2D)        (None, 18, 18, 512)       2359808   \n",
      "_________________________________________________________________\n",
      "block4_conv3 (Conv2D)        (None, 18, 18, 512)       2359808   \n",
      "_________________________________________________________________\n",
      "block4_conv4 (Conv2D)        (None, 18, 18, 512)       2359808   \n",
      "_________________________________________________________________\n",
      "block4_pool (MaxPooling2D)   (None, 9, 9, 512)         0         \n",
      "_________________________________________________________________\n",
      "block5_conv1 (Conv2D)        (None, 9, 9, 512)         2359808   \n",
      "_________________________________________________________________\n",
      "block5_conv2 (Conv2D)        (None, 9, 9, 512)         2359808   \n",
      "_________________________________________________________________\n",
      "block5_conv3 (Conv2D)        (None, 9, 9, 512)         2359808   \n",
      "_________________________________________________________________\n",
      "block5_conv4 (Conv2D)        (None, 9, 9, 512)         2359808   \n",
      "_________________________________________________________________\n",
      "block5_pool (MaxPooling2D)   (None, 4, 4, 512)         0         \n",
      "=================================================================\n",
      "Total params: 20,024,384\n",
      "Trainable params: 20,024,384\n",
      "Non-trainable params: 0\n",
      "_________________________________________________________________\n"
     ]
    }
   ],
   "source": [
    "conv_base.summary()"
   ]
  },
  {
   "cell_type": "code",
   "execution_count": 15,
   "metadata": {
    "execution": {
     "iopub.execute_input": "2021-03-09T17:10:53.493840Z",
     "iopub.status.busy": "2021-03-09T17:10:53.493065Z",
     "iopub.status.idle": "2021-03-09T17:10:53.836439Z",
     "shell.execute_reply": "2021-03-09T17:10:53.835756Z"
    },
    "papermill": {
     "duration": 0.371147,
     "end_time": "2021-03-09T17:10:53.836648",
     "exception": false,
     "start_time": "2021-03-09T17:10:53.465501",
     "status": "completed"
    },
    "tags": []
   },
   "outputs": [
    {
     "name": "stdout",
     "output_type": "stream",
     "text": [
      "Model: \"model\"\n",
      "_________________________________________________________________\n",
      "Layer (type)                 Output Shape              Param #   \n",
      "=================================================================\n",
      "input_2 (InputLayer)         [(None, 150, 150, 3)]     0         \n",
      "_________________________________________________________________\n",
      "block1_conv1 (Conv2D)        (None, 150, 150, 64)      1792      \n",
      "_________________________________________________________________\n",
      "block1_conv2 (Conv2D)        (None, 150, 150, 64)      36928     \n",
      "_________________________________________________________________\n",
      "block1_pool (MaxPooling2D)   (None, 75, 75, 64)        0         \n",
      "_________________________________________________________________\n",
      "block2_conv1 (Conv2D)        (None, 75, 75, 128)       73856     \n",
      "_________________________________________________________________\n",
      "block2_conv2 (Conv2D)        (None, 75, 75, 128)       147584    \n",
      "_________________________________________________________________\n",
      "block2_pool (MaxPooling2D)   (None, 37, 37, 128)       0         \n",
      "_________________________________________________________________\n",
      "block3_conv1 (Conv2D)        (None, 37, 37, 256)       295168    \n",
      "_________________________________________________________________\n",
      "block3_conv2 (Conv2D)        (None, 37, 37, 256)       590080    \n",
      "_________________________________________________________________\n",
      "block3_conv3 (Conv2D)        (None, 37, 37, 256)       590080    \n",
      "_________________________________________________________________\n",
      "block3_conv4 (Conv2D)        (None, 37, 37, 256)       590080    \n",
      "_________________________________________________________________\n",
      "block3_pool (MaxPooling2D)   (None, 18, 18, 256)       0         \n",
      "=================================================================\n",
      "Total params: 2,325,568\n",
      "Trainable params: 2,325,568\n",
      "Non-trainable params: 0\n",
      "_________________________________________________________________\n"
     ]
    }
   ],
   "source": [
    "\"\"\"conv = Sequential()\n",
    "\n",
    "for layer in conv_base.layers[:10]: # this is where I changed your code\n",
    "    conv.add(layer) \"\"\"   \n",
    "\n",
    "model = VGG19(include_top=False,\n",
    "                  input_shape=(150, 150, 3))\n",
    "from tensorflow.keras.models import Model\n",
    "conv = Model(model.inputs, outputs=model.layers[11].output)\n",
    "\n",
    "# Add 'softmax' instead of earlier 'prediction' layer.\n",
    "conv.summary()"
   ]
  },
  {
   "cell_type": "code",
   "execution_count": 16,
   "metadata": {
    "execution": {
     "iopub.execute_input": "2021-03-09T17:10:53.886125Z",
     "iopub.status.busy": "2021-03-09T17:10:53.885331Z",
     "iopub.status.idle": "2021-03-09T17:10:53.892099Z",
     "shell.execute_reply": "2021-03-09T17:10:53.892673Z"
    },
    "papermill": {
     "duration": 0.034704,
     "end_time": "2021-03-09T17:10:53.892834",
     "exception": false,
     "start_time": "2021-03-09T17:10:53.858130",
     "status": "completed"
    },
    "tags": []
   },
   "outputs": [
    {
     "name": "stdout",
     "output_type": "stream",
     "text": [
      "Model: \"model\"\n",
      "_________________________________________________________________\n",
      "Layer (type)                 Output Shape              Param #   \n",
      "=================================================================\n",
      "input_2 (InputLayer)         [(None, 150, 150, 3)]     0         \n",
      "_________________________________________________________________\n",
      "block1_conv1 (Conv2D)        (None, 150, 150, 64)      1792      \n",
      "_________________________________________________________________\n",
      "block1_conv2 (Conv2D)        (None, 150, 150, 64)      36928     \n",
      "_________________________________________________________________\n",
      "block1_pool (MaxPooling2D)   (None, 75, 75, 64)        0         \n",
      "_________________________________________________________________\n",
      "block2_conv1 (Conv2D)        (None, 75, 75, 128)       73856     \n",
      "_________________________________________________________________\n",
      "block2_conv2 (Conv2D)        (None, 75, 75, 128)       147584    \n",
      "_________________________________________________________________\n",
      "block2_pool (MaxPooling2D)   (None, 37, 37, 128)       0         \n",
      "_________________________________________________________________\n",
      "block3_conv1 (Conv2D)        (None, 37, 37, 256)       295168    \n",
      "_________________________________________________________________\n",
      "block3_conv2 (Conv2D)        (None, 37, 37, 256)       590080    \n",
      "_________________________________________________________________\n",
      "block3_conv3 (Conv2D)        (None, 37, 37, 256)       590080    \n",
      "_________________________________________________________________\n",
      "block3_conv4 (Conv2D)        (None, 37, 37, 256)       590080    \n",
      "_________________________________________________________________\n",
      "block3_pool (MaxPooling2D)   (None, 18, 18, 256)       0         \n",
      "=================================================================\n",
      "Total params: 2,325,568\n",
      "Trainable params: 2,325,568\n",
      "Non-trainable params: 0\n",
      "_________________________________________________________________\n"
     ]
    }
   ],
   "source": [
    "conv.summary()"
   ]
  },
  {
   "cell_type": "code",
   "execution_count": 17,
   "metadata": {
    "execution": {
     "iopub.execute_input": "2021-03-09T17:10:53.945780Z",
     "iopub.status.busy": "2021-03-09T17:10:53.945044Z",
     "iopub.status.idle": "2021-03-09T17:10:53.947923Z",
     "shell.execute_reply": "2021-03-09T17:10:53.947478Z"
    },
    "papermill": {
     "duration": 0.032912,
     "end_time": "2021-03-09T17:10:53.948032",
     "exception": false,
     "start_time": "2021-03-09T17:10:53.915120",
     "status": "completed"
    },
    "tags": []
   },
   "outputs": [],
   "source": [
    "batch_size = 10\n",
    "datagen = ImageDataGenerator(rescale=1./255)\n",
    "def extract_features(directory, sample_count):\n",
    "    features = np.zeros(shape=(sample_count, 18, 18, 256))\n",
    "    labels = np.zeros(shape=(sample_count))\n",
    "    generator = datagen.flow_from_directory(\n",
    "        directory,\n",
    "        target_size=(150, 150),\n",
    "        batch_size=batch_size,\n",
    "        class_mode='binary')\n",
    "    i = 0\n",
    "    for inputs_batch, labels_batch in generator:\n",
    "        features_batch = conv.predict(inputs_batch)\n",
    "        features[i * batch_size : (i + 1) * batch_size] = features_batch\n",
    "        labels[i * batch_size : (i + 1) * batch_size] = labels_batch\n",
    "        i += 1\n",
    "        if i * batch_size >= sample_count:\n",
    "            break\n",
    "    return features, labels"
   ]
  },
  {
   "cell_type": "code",
   "execution_count": 18,
   "metadata": {
    "execution": {
     "iopub.execute_input": "2021-03-09T17:10:53.995108Z",
     "iopub.status.busy": "2021-03-09T17:10:53.994442Z",
     "iopub.status.idle": "2021-03-09T17:10:53.997438Z",
     "shell.execute_reply": "2021-03-09T17:10:53.996994Z"
    },
    "papermill": {
     "duration": 0.02784,
     "end_time": "2021-03-09T17:10:53.997556",
     "exception": false,
     "start_time": "2021-03-09T17:10:53.969716",
     "status": "completed"
    },
    "tags": []
   },
   "outputs": [],
   "source": [
    "num_train_samples = len(df_train)\n",
    "num_val_samples = len(df_val)"
   ]
  },
  {
   "cell_type": "code",
   "execution_count": 19,
   "metadata": {
    "execution": {
     "iopub.execute_input": "2021-03-09T17:10:54.047496Z",
     "iopub.status.busy": "2021-03-09T17:10:54.046721Z",
     "iopub.status.idle": "2021-03-09T17:10:54.596989Z",
     "shell.execute_reply": "2021-03-09T17:10:54.597605Z"
    },
    "papermill": {
     "duration": 0.579017,
     "end_time": "2021-03-09T17:10:54.597803",
     "exception": false,
     "start_time": "2021-03-09T17:10:54.018786",
     "status": "completed"
    },
    "tags": []
   },
   "outputs": [
    {
     "name": "stdout",
     "output_type": "stream",
     "text": [
      "Model: \"model_2\"\n",
      "__________________________________________________________________________________________________\n",
      "Layer (type)                    Output Shape         Param #     Connected to                     \n",
      "==================================================================================================\n",
      "input_3 (InputLayer)            [(10, 18, 18, 256)]  0                                            \n",
      "__________________________________________________________________________________________________\n",
      "conv1 (Conv2D)                  (10, 10, 10, 256)    5308672     input_3[0][0]                    \n",
      "__________________________________________________________________________________________________\n",
      "primarycap_conv2d (Conv2D)      (10, 1, 1, 256)      5308672     conv1[0][0]                      \n",
      "__________________________________________________________________________________________________\n",
      "primarycap_reshape (Reshape)    (10, 32, 8)          0           primarycap_conv2d[0][0]          \n",
      "__________________________________________________________________________________________________\n",
      "primarycap_squash (Lambda)      (10, 32, 8)          0           primarycap_reshape[0][0]         \n",
      "__________________________________________________________________________________________________\n",
      "digitcaps (CapsuleLayer)        (10, 2, 16)          8192        primarycap_squash[0][0]          \n",
      "__________________________________________________________________________________________________\n",
      "mask_1 (Mask)                   (10, 32)             0           digitcaps[0][0]                  \n",
      "__________________________________________________________________________________________________\n",
      "capsnet (Length)                (10, 2)              0           digitcaps[0][0]                  \n",
      "__________________________________________________________________________________________________\n",
      "decoder (Sequential)            (None, 18, 18, 256)  85559808    mask_1[0][0]                     \n",
      "==================================================================================================\n",
      "Total params: 96,185,344\n",
      "Trainable params: 96,185,344\n",
      "Non-trainable params: 0\n",
      "__________________________________________________________________________________________________\n"
     ]
    }
   ],
   "source": [
    "model, eval_model, manipulate_model = CapsNet(input_shape=(18, 18, 256),n_class=2,routings=routings,                    batch_size=batch_size)\n",
    "eval_model.summary()\n"
   ]
  },
  {
   "cell_type": "code",
   "execution_count": 20,
   "metadata": {
    "execution": {
     "iopub.execute_input": "2021-03-09T17:10:54.647000Z",
     "iopub.status.busy": "2021-03-09T17:10:54.646500Z",
     "iopub.status.idle": "2021-03-09T17:11:16.979485Z",
     "shell.execute_reply": "2021-03-09T17:11:16.978448Z"
    },
    "papermill": {
     "duration": 22.358089,
     "end_time": "2021-03-09T17:11:16.979637",
     "exception": false,
     "start_time": "2021-03-09T17:10:54.621548",
     "status": "completed"
    },
    "tags": []
   },
   "outputs": [
    {
     "name": "stdout",
     "output_type": "stream",
     "text": [
      "Found 2400 images belonging to 2 classes.\n",
      "Found 800 images belonging to 2 classes.\n"
     ]
    }
   ],
   "source": [
    "\n",
    "train_features, train_labels = extract_features(Processed_datasets[\"train_dir\"], num_train_samples)\n",
    "validation_features, validation_labels = extract_features(Processed_datasets[\"val_dir\"], num_val_samples)\n",
    "\n"
   ]
  },
  {
   "cell_type": "code",
   "execution_count": 21,
   "metadata": {
    "execution": {
     "iopub.execute_input": "2021-03-09T17:11:17.029803Z",
     "iopub.status.busy": "2021-03-09T17:11:17.029121Z",
     "iopub.status.idle": "2021-03-09T17:11:17.084022Z",
     "shell.execute_reply": "2021-03-09T17:11:17.083557Z"
    },
    "papermill": {
     "duration": 0.08169,
     "end_time": "2021-03-09T17:11:17.084136",
     "exception": false,
     "start_time": "2021-03-09T17:11:17.002446",
     "status": "completed"
    },
    "tags": []
   },
   "outputs": [],
   "source": [
    "from keras.utils import np_utils\n"
   ]
  },
  {
   "cell_type": "code",
   "execution_count": 22,
   "metadata": {
    "execution": {
     "iopub.execute_input": "2021-03-09T17:11:17.141730Z",
     "iopub.status.busy": "2021-03-09T17:11:17.141204Z",
     "iopub.status.idle": "2021-03-09T17:11:17.144895Z",
     "shell.execute_reply": "2021-03-09T17:11:17.145768Z"
    },
    "papermill": {
     "duration": 0.030252,
     "end_time": "2021-03-09T17:11:17.145897",
     "exception": false,
     "start_time": "2021-03-09T17:11:17.115645",
     "status": "completed"
    },
    "tags": []
   },
   "outputs": [],
   "source": [
    "Y_train = np_utils.to_categorical(train_labels, 2)\n",
    "Y_test = np_utils.to_categorical(validation_labels, 2)"
   ]
  },
  {
   "cell_type": "code",
   "execution_count": 23,
   "metadata": {
    "execution": {
     "iopub.execute_input": "2021-03-09T17:11:17.202146Z",
     "iopub.status.busy": "2021-03-09T17:11:17.198041Z",
     "iopub.status.idle": "2021-03-09T17:15:47.535967Z",
     "shell.execute_reply": "2021-03-09T17:15:47.535117Z"
    },
    "papermill": {
     "duration": 270.367733,
     "end_time": "2021-03-09T17:15:47.536097",
     "exception": false,
     "start_time": "2021-03-09T17:11:17.168364",
     "status": "completed"
    },
    "tags": []
   },
   "outputs": [
    {
     "name": "stderr",
     "output_type": "stream",
     "text": [
      "/opt/conda/lib/python3.7/site-packages/keras_preprocessing/image/numpy_array_iterator.py:136: UserWarning: NumpyArrayIterator is set to use the data format convention \"channels_last\" (channels on axis 3), i.e. expected either 1, 3, or 4 channels on axis 3. However, it was passed an array with shape (2400, 18, 18, 256) (256 channels).\n",
      "  str(self.x.shape[channels_axis]) + ' channels).')\n"
     ]
    },
    {
     "name": "stdout",
     "output_type": "stream",
     "text": [
      "Epoch 1/30\n",
      "240/240 [==============================] - 11s 41ms/step - loss: -30.3865 - capsnet_loss: 0.3006 - decoder_loss: -78.2832 - capsnet_accuracy: 0.5039 - val_loss: -52.8532 - val_capsnet_loss: 0.2136 - val_decoder_loss: -135.3747 - val_capsnet_accuracy: 0.5000\n",
      "\n",
      "Epoch 00001: val_capsnet_accuracy improved from -inf to 0.50000, saving model to weights-vgg19_capsnet.h5\n",
      "Epoch 2/30\n",
      "240/240 [==============================] - 9s 36ms/step - loss: -52.5025 - capsnet_loss: 0.2144 - decoder_loss: -134.4818 - capsnet_accuracy: 0.5038 - val_loss: -52.8572 - val_capsnet_loss: 0.2134 - val_decoder_loss: -135.3843 - val_capsnet_accuracy: 0.5000\n",
      "\n",
      "Epoch 00002: val_capsnet_accuracy did not improve from 0.50000\n",
      "Epoch 3/30\n",
      "240/240 [==============================] - 8s 35ms/step - loss: -52.6715 - capsnet_loss: 0.2152 - decoder_loss: -134.9149 - capsnet_accuracy: 0.4987 - val_loss: -52.8608 - val_capsnet_loss: 0.2135 - val_decoder_loss: -135.3935 - val_capsnet_accuracy: 0.5512\n",
      "\n",
      "Epoch 00003: val_capsnet_accuracy improved from 0.50000 to 0.55125, saving model to weights-vgg19_capsnet.h5\n",
      "Epoch 4/30\n",
      "240/240 [==============================] - 8s 35ms/step - loss: -52.3837 - capsnet_loss: 0.2170 - decoder_loss: -134.1854 - capsnet_accuracy: 0.5056 - val_loss: -52.8609 - val_capsnet_loss: 0.2150 - val_decoder_loss: -135.3976 - val_capsnet_accuracy: 0.5000\n",
      "\n",
      "Epoch 00004: val_capsnet_accuracy did not improve from 0.55125\n",
      "Epoch 5/30\n",
      "240/240 [==============================] - 8s 35ms/step - loss: -52.3001 - capsnet_loss: 0.2137 - decoder_loss: -133.9638 - capsnet_accuracy: 0.5237 - val_loss: -52.8712 - val_capsnet_loss: 0.2105 - val_decoder_loss: -135.4126 - val_capsnet_accuracy: 0.5475\n",
      "\n",
      "Epoch 00005: val_capsnet_accuracy did not improve from 0.55125\n",
      "Epoch 6/30\n",
      "240/240 [==============================] - 9s 36ms/step - loss: -52.3073 - capsnet_loss: 0.2289 - decoder_loss: -134.0209 - capsnet_accuracy: 0.5085 - val_loss: -52.8635 - val_capsnet_loss: 0.2126 - val_decoder_loss: -135.3982 - val_capsnet_accuracy: 0.5000\n",
      "\n",
      "Epoch 00006: val_capsnet_accuracy did not improve from 0.55125\n",
      "Epoch 7/30\n",
      "240/240 [==============================] - 8s 35ms/step - loss: -52.6224 - capsnet_loss: 0.2126 - decoder_loss: -134.7833 - capsnet_accuracy: 0.5295 - val_loss: -52.8673 - val_capsnet_loss: 0.2095 - val_decoder_loss: -135.3998 - val_capsnet_accuracy: 0.5900\n",
      "\n",
      "Epoch 00007: val_capsnet_accuracy improved from 0.55125 to 0.59000, saving model to weights-vgg19_capsnet.h5\n",
      "Epoch 8/30\n",
      "240/240 [==============================] - 8s 35ms/step - loss: -52.6953 - capsnet_loss: 0.2099 - decoder_loss: -134.9622 - capsnet_accuracy: 0.5513 - val_loss: -52.8734 - val_capsnet_loss: 0.2049 - val_decoder_loss: -135.4038 - val_capsnet_accuracy: 0.5475\n",
      "\n",
      "Epoch 00008: val_capsnet_accuracy did not improve from 0.59000\n",
      "Epoch 9/30\n",
      "240/240 [==============================] - 8s 35ms/step - loss: -52.2730 - capsnet_loss: 0.2221 - decoder_loss: -133.9160 - capsnet_accuracy: 0.5476 - val_loss: -52.8723 - val_capsnet_loss: 0.2090 - val_decoder_loss: -135.4115 - val_capsnet_accuracy: 0.5575\n",
      "\n",
      "Epoch 00009: val_capsnet_accuracy did not improve from 0.59000\n",
      "Epoch 10/30\n",
      "240/240 [==============================] - 8s 35ms/step - loss: -52.5405 - capsnet_loss: 0.2302 - decoder_loss: -134.6194 - capsnet_accuracy: 0.5598 - val_loss: -52.8648 - val_capsnet_loss: 0.2127 - val_decoder_loss: -135.4017 - val_capsnet_accuracy: 0.5000\n",
      "\n",
      "Epoch 00010: val_capsnet_accuracy did not improve from 0.59000\n",
      "Epoch 11/30\n",
      "240/240 [==============================] - 8s 35ms/step - loss: -52.5355 - capsnet_loss: 0.2059 - decoder_loss: -134.5445 - capsnet_accuracy: 0.5919 - val_loss: -52.8781 - val_capsnet_loss: 0.2022 - val_decoder_loss: -135.4089 - val_capsnet_accuracy: 0.5688\n",
      "\n",
      "Epoch 00011: val_capsnet_accuracy did not improve from 0.59000\n",
      "Epoch 12/30\n",
      "240/240 [==============================] - 8s 34ms/step - loss: -52.5203 - capsnet_loss: 0.1890 - decoder_loss: -134.4624 - capsnet_accuracy: 0.6482 - val_loss: -52.9091 - val_capsnet_loss: 0.1788 - val_decoder_loss: -135.4283 - val_capsnet_accuracy: 0.6737\n",
      "\n",
      "Epoch 00012: val_capsnet_accuracy improved from 0.59000 to 0.67375, saving model to weights-vgg19_capsnet.h5\n",
      "Epoch 13/30\n",
      "240/240 [==============================] - 8s 35ms/step - loss: -52.5878 - capsnet_loss: 0.1499 - decoder_loss: -134.5352 - capsnet_accuracy: 0.7459 - val_loss: -52.9577 - val_capsnet_loss: 0.1360 - val_decoder_loss: -135.4432 - val_capsnet_accuracy: 0.7825\n",
      "\n",
      "Epoch 00013: val_capsnet_accuracy improved from 0.67375 to 0.78250, saving model to weights-vgg19_capsnet.h5\n",
      "Epoch 14/30\n",
      "240/240 [==============================] - 9s 36ms/step - loss: -52.6426 - capsnet_loss: 0.1135 - decoder_loss: -134.5819 - capsnet_accuracy: 0.8256 - val_loss: -52.9984 - val_capsnet_loss: 0.1160 - val_decoder_loss: -135.4960 - val_capsnet_accuracy: 0.8288\n",
      "\n",
      "Epoch 00014: val_capsnet_accuracy improved from 0.78250 to 0.82875, saving model to weights-vgg19_capsnet.h5\n",
      "Epoch 15/30\n",
      "240/240 [==============================] - 8s 35ms/step - loss: -52.8709 - capsnet_loss: 0.0939 - decoder_loss: -135.1141 - capsnet_accuracy: 0.8699 - val_loss: -53.0274 - val_capsnet_loss: 0.0995 - val_decoder_loss: -135.5278 - val_capsnet_accuracy: 0.8637\n",
      "\n",
      "Epoch 00015: val_capsnet_accuracy improved from 0.82875 to 0.86375, saving model to weights-vgg19_capsnet.h5\n",
      "Epoch 16/30\n",
      "240/240 [==============================] - 8s 35ms/step - loss: -52.7367 - capsnet_loss: 0.0716 - decoder_loss: -134.7152 - capsnet_accuracy: 0.9054 - val_loss: -53.0720 - val_capsnet_loss: 0.0876 - val_decoder_loss: -135.6112 - val_capsnet_accuracy: 0.8700\n",
      "\n",
      "Epoch 00016: val_capsnet_accuracy improved from 0.86375 to 0.87000, saving model to weights-vgg19_capsnet.h5\n",
      "Epoch 17/30\n",
      "240/240 [==============================] - 9s 37ms/step - loss: -52.6088 - capsnet_loss: 0.0498 - decoder_loss: -134.3331 - capsnet_accuracy: 0.9360 - val_loss: -53.0907 - val_capsnet_loss: 0.0816 - val_decoder_loss: -135.6438 - val_capsnet_accuracy: 0.8750\n",
      "\n",
      "Epoch 00017: val_capsnet_accuracy improved from 0.87000 to 0.87500, saving model to weights-vgg19_capsnet.h5\n",
      "Epoch 18/30\n",
      "240/240 [==============================] - 8s 35ms/step - loss: -52.8206 - capsnet_loss: 0.0452 - decoder_loss: -134.8616 - capsnet_accuracy: 0.9414 - val_loss: -53.0855 - val_capsnet_loss: 0.0873 - val_decoder_loss: -135.6448 - val_capsnet_accuracy: 0.8763\n",
      "\n",
      "Epoch 00018: val_capsnet_accuracy improved from 0.87500 to 0.87625, saving model to weights-vgg19_capsnet.h5\n",
      "Epoch 19/30\n",
      "240/240 [==============================] - 8s 35ms/step - loss: -52.6821 - capsnet_loss: 0.0346 - decoder_loss: -134.4812 - capsnet_accuracy: 0.9541 - val_loss: -53.0977 - val_capsnet_loss: 0.0764 - val_decoder_loss: -135.6485 - val_capsnet_accuracy: 0.8925\n",
      "\n",
      "Epoch 00019: val_capsnet_accuracy improved from 0.87625 to 0.89250, saving model to weights-vgg19_capsnet.h5\n",
      "Epoch 20/30\n",
      "240/240 [==============================] - 8s 35ms/step - loss: -52.7113 - capsnet_loss: 0.0282 - decoder_loss: -134.5394 - capsnet_accuracy: 0.9638 - val_loss: -53.1142 - val_capsnet_loss: 0.0740 - val_decoder_loss: -135.6841 - val_capsnet_accuracy: 0.8900\n",
      "\n",
      "Epoch 00020: val_capsnet_accuracy did not improve from 0.89250\n",
      "Epoch 21/30\n",
      "240/240 [==============================] - 9s 36ms/step - loss: -52.7968 - capsnet_loss: 0.0256 - decoder_loss: -134.7511 - capsnet_accuracy: 0.9675 - val_loss: -53.1218 - val_capsnet_loss: 0.0721 - val_decoder_loss: -135.6985 - val_capsnet_accuracy: 0.8963\n",
      "\n",
      "Epoch 00021: val_capsnet_accuracy improved from 0.89250 to 0.89625, saving model to weights-vgg19_capsnet.h5\n",
      "Epoch 22/30\n",
      "240/240 [==============================] - 8s 35ms/step - loss: -52.8227 - capsnet_loss: 0.0209 - decoder_loss: -134.8051 - capsnet_accuracy: 0.9732 - val_loss: -53.1328 - val_capsnet_loss: 0.0640 - val_decoder_loss: -135.7060 - val_capsnet_accuracy: 0.9075\n",
      "\n",
      "Epoch 00022: val_capsnet_accuracy improved from 0.89625 to 0.90750, saving model to weights-vgg19_capsnet.h5\n",
      "Epoch 23/30\n",
      "240/240 [==============================] - 8s 35ms/step - loss: -52.6326 - capsnet_loss: 0.0233 - decoder_loss: -134.3263 - capsnet_accuracy: 0.9677 - val_loss: -53.1380 - val_capsnet_loss: 0.0650 - val_decoder_loss: -135.7220 - val_capsnet_accuracy: 0.9175\n",
      "\n",
      "Epoch 00023: val_capsnet_accuracy improved from 0.90750 to 0.91750, saving model to weights-vgg19_capsnet.h5\n",
      "Epoch 24/30\n",
      "240/240 [==============================] - 9s 37ms/step - loss: -52.8725 - capsnet_loss: 0.0124 - decoder_loss: -134.9106 - capsnet_accuracy: 0.9863 - val_loss: -53.1357 - val_capsnet_loss: 0.0670 - val_decoder_loss: -135.7210 - val_capsnet_accuracy: 0.9025\n",
      "\n",
      "Epoch 00024: val_capsnet_accuracy did not improve from 0.91750\n",
      "Epoch 25/30\n",
      "240/240 [==============================] - 8s 35ms/step - loss: -52.7077 - capsnet_loss: 0.0120 - decoder_loss: -134.4891 - capsnet_accuracy: 0.9863 - val_loss: -53.1466 - val_capsnet_loss: 0.0633 - val_decoder_loss: -135.7395 - val_capsnet_accuracy: 0.9075\n",
      "\n",
      "Epoch 00025: val_capsnet_accuracy did not improve from 0.91750\n",
      "Epoch 26/30\n",
      "240/240 [==============================] - 8s 34ms/step - loss: -52.8230 - capsnet_loss: 0.0102 - decoder_loss: -134.7785 - capsnet_accuracy: 0.9874 - val_loss: -53.1484 - val_capsnet_loss: 0.0664 - val_decoder_loss: -135.7521 - val_capsnet_accuracy: 0.9100\n",
      "\n",
      "Epoch 00026: val_capsnet_accuracy did not improve from 0.91750\n",
      "Epoch 27/30\n",
      "240/240 [==============================] - 8s 35ms/step - loss: -52.9618 - capsnet_loss: 0.0066 - decoder_loss: -135.1234 - capsnet_accuracy: 0.9930 - val_loss: -53.1500 - val_capsnet_loss: 0.0664 - val_decoder_loss: -135.7562 - val_capsnet_accuracy: 0.9087\n",
      "\n",
      "Epoch 00027: val_capsnet_accuracy did not improve from 0.91750\n",
      "Epoch 28/30\n",
      "240/240 [==============================] - 9s 36ms/step - loss: -52.9217 - capsnet_loss: 0.0063 - decoder_loss: -135.0203 - capsnet_accuracy: 0.9911 - val_loss: -53.1470 - val_capsnet_loss: 0.0693 - val_decoder_loss: -135.7558 - val_capsnet_accuracy: 0.9112\n",
      "\n",
      "Epoch 00028: val_capsnet_accuracy did not improve from 0.91750\n",
      "Epoch 29/30\n",
      "240/240 [==============================] - 8s 35ms/step - loss: -52.8472 - capsnet_loss: 0.0050 - decoder_loss: -134.8272 - capsnet_accuracy: 0.9959 - val_loss: -53.1564 - val_capsnet_loss: 0.0665 - val_decoder_loss: -135.7726 - val_capsnet_accuracy: 0.9137\n",
      "\n",
      "Epoch 00029: val_capsnet_accuracy did not improve from 0.91750\n",
      "Epoch 30/30\n",
      "240/240 [==============================] - 8s 34ms/step - loss: -52.7388 - capsnet_loss: 0.0025 - decoder_loss: -134.5442 - capsnet_accuracy: 0.9981 - val_loss: -53.1296 - val_capsnet_loss: 0.0851 - val_decoder_loss: -135.7517 - val_capsnet_accuracy: 0.8800\n",
      "\n",
      "Epoch 00030: val_capsnet_accuracy did not improve from 0.91750\n"
     ]
    },
    {
     "data": {
      "text/plain": [
       "<tensorflow.python.keras.engine.functional.Functional at 0x7fe158e7d2d0>"
      ]
     },
     "execution_count": 23,
     "metadata": {},
     "output_type": "execute_result"
    }
   ],
   "source": [
    "train(model=model, data=((train_features, Y_train), (validation_features, Y_test)),mode_version = \"vgg19_capsnet\")"
   ]
  }
 ],
 "metadata": {
  "kernelspec": {
   "display_name": "Python 3",
   "language": "python",
   "name": "python3"
  },
  "language_info": {
   "codemirror_mode": {
    "name": "ipython",
    "version": 3
   },
   "file_extension": ".py",
   "mimetype": "text/x-python",
   "name": "python",
   "nbconvert_exporter": "python",
   "pygments_lexer": "ipython3",
   "version": "3.7.9"
  },
  "papermill": {
   "default_parameters": {},
   "duration": 342.896158,
   "end_time": "2021-03-09T17:15:51.720695",
   "environment_variables": {},
   "exception": null,
   "input_path": "__notebook__.ipynb",
   "output_path": "__notebook__.ipynb",
   "parameters": {},
   "start_time": "2021-03-09T17:10:08.824537",
   "version": "2.2.2"
  }
 },
 "nbformat": 4,
 "nbformat_minor": 4
}
